{
 "cells": [
  {
   "cell_type": "markdown",
   "metadata": {},
   "source": [
    "# Problem Statement"
   ]
  },
  {
   "cell_type": "markdown",
   "metadata": {},
   "source": [
    "WHO is a specialized agency of the UN which is concerned with the world population health. Based upon the various parameters, WHO allocates budget for various areas to conduct various campaigns/initiatives to improve healthcare. Annual salary is an important variable which is considered to decide budget to be allocated for an area.  \n",
    "  \n",
    "We have a data, the extraction of which was done from 1994 Census dataset.  \n",
    "  \n",
    "The goal here is to build a binary model to predict whether the salary is >50K or <=50K."
   ]
  },
  {
   "cell_type": "markdown",
   "metadata": {},
   "source": [
    "## Data Dictionary"
   ]
  },
  {
   "cell_type": "markdown",
   "metadata": {},
   "source": [
    "1. <b>age:</b> age  \n",
    "2. <b>workclass:</b> workclass  \n",
    "3. <b>education:</b> highest education  \n",
    "4. <b>marrital status:</b> marital status  \n",
    "5. <b>occupation:</b> occupation  \n",
    "6. <b>sex:</b> sex  \n",
    "7. <b>capital gain:</b> income from investment sources other than salary/wages  \n",
    "8. <b>capital loss:</b> income from investment sources other than salary/wages  \n",
    "9. <b>working hours:</b> nummber of working hours per week  \n",
    "10. <b>salary:</b> salary  "
   ]
  },
  {
   "cell_type": "markdown",
   "metadata": {},
   "source": [
    "###### Note: The Exploratory Data Analysis part has already been done in the student version of the notebook. This particular laboratory exercise is for the coding of Logistic Regression and Linear Discriminant Analysis and then evaluating the same using various model performance measures. Please do carefully take note of the questions which are not to be solved or discussed in the within laboratory session but is being given as a take-home assignment to the student. The students need to submit their completed notebook for grading purposes."
   ]
  },
  {
   "cell_type": "markdown",
   "metadata": {},
   "source": [
    "# Import the necessary libraries and load the dataset."
   ]
  },
  {
   "cell_type": "code",
   "execution_count": 1,
   "metadata": {
    "ExecuteTime": {
     "end_time": "2020-08-20T07:15:56.554308Z",
     "start_time": "2020-08-20T07:15:55.540053Z"
    }
   },
   "outputs": [],
   "source": [
    "import numpy as np\n",
    "import pandas as pd\n",
    "import matplotlib.pyplot as plt\n",
    "import seaborn as sns"
   ]
  },
  {
   "cell_type": "code",
   "execution_count": 2,
   "metadata": {
    "ExecuteTime": {
     "end_time": "2020-08-20T07:15:56.738848Z",
     "start_time": "2020-08-20T07:15:56.567274Z"
    }
   },
   "outputs": [
    {
     "data": {
      "text/html": [
       "<div>\n",
       "<style scoped>\n",
       "    .dataframe tbody tr th:only-of-type {\n",
       "        vertical-align: middle;\n",
       "    }\n",
       "\n",
       "    .dataframe tbody tr th {\n",
       "        vertical-align: top;\n",
       "    }\n",
       "\n",
       "    .dataframe thead th {\n",
       "        text-align: right;\n",
       "    }\n",
       "</style>\n",
       "<table border=\"1\" class=\"dataframe\">\n",
       "  <thead>\n",
       "    <tr style=\"text-align: right;\">\n",
       "      <th></th>\n",
       "      <th>age</th>\n",
       "      <th>workclass</th>\n",
       "      <th>education</th>\n",
       "      <th>marrital status</th>\n",
       "      <th>occupation</th>\n",
       "      <th>sex</th>\n",
       "      <th>capital gain</th>\n",
       "      <th>capital loss</th>\n",
       "      <th>working hours per week</th>\n",
       "      <th>salary</th>\n",
       "    </tr>\n",
       "  </thead>\n",
       "  <tbody>\n",
       "    <tr>\n",
       "      <th>0</th>\n",
       "      <td>39</td>\n",
       "      <td>State-gov</td>\n",
       "      <td>Bachelors</td>\n",
       "      <td>Never-married</td>\n",
       "      <td>Adm-clerical</td>\n",
       "      <td>Male</td>\n",
       "      <td>2174</td>\n",
       "      <td>0</td>\n",
       "      <td>40</td>\n",
       "      <td>&lt;=50K</td>\n",
       "    </tr>\n",
       "    <tr>\n",
       "      <th>1</th>\n",
       "      <td>50</td>\n",
       "      <td>Self-emp-not-inc</td>\n",
       "      <td>Bachelors</td>\n",
       "      <td>Married-civ-spouse</td>\n",
       "      <td>Exec-managerial</td>\n",
       "      <td>Male</td>\n",
       "      <td>0</td>\n",
       "      <td>0</td>\n",
       "      <td>13</td>\n",
       "      <td>&lt;=50K</td>\n",
       "    </tr>\n",
       "    <tr>\n",
       "      <th>2</th>\n",
       "      <td>38</td>\n",
       "      <td>Private</td>\n",
       "      <td>HS-grad</td>\n",
       "      <td>Divorced</td>\n",
       "      <td>Handlers-cleaners</td>\n",
       "      <td>Male</td>\n",
       "      <td>0</td>\n",
       "      <td>0</td>\n",
       "      <td>40</td>\n",
       "      <td>&lt;=50K</td>\n",
       "    </tr>\n",
       "    <tr>\n",
       "      <th>3</th>\n",
       "      <td>53</td>\n",
       "      <td>Private</td>\n",
       "      <td>11th</td>\n",
       "      <td>Married-civ-spouse</td>\n",
       "      <td>Handlers-cleaners</td>\n",
       "      <td>Male</td>\n",
       "      <td>0</td>\n",
       "      <td>0</td>\n",
       "      <td>40</td>\n",
       "      <td>&lt;=50K</td>\n",
       "    </tr>\n",
       "    <tr>\n",
       "      <th>4</th>\n",
       "      <td>28</td>\n",
       "      <td>Private</td>\n",
       "      <td>Bachelors</td>\n",
       "      <td>Married-civ-spouse</td>\n",
       "      <td>Prof-specialty</td>\n",
       "      <td>Female</td>\n",
       "      <td>0</td>\n",
       "      <td>0</td>\n",
       "      <td>40</td>\n",
       "      <td>&lt;=50K</td>\n",
       "    </tr>\n",
       "  </tbody>\n",
       "</table>\n",
       "</div>"
      ],
      "text/plain": [
       "   age         workclass  education     marrital status         occupation  \\\n",
       "0   39         State-gov  Bachelors       Never-married       Adm-clerical   \n",
       "1   50  Self-emp-not-inc  Bachelors  Married-civ-spouse    Exec-managerial   \n",
       "2   38           Private    HS-grad            Divorced  Handlers-cleaners   \n",
       "3   53           Private       11th  Married-civ-spouse  Handlers-cleaners   \n",
       "4   28           Private  Bachelors  Married-civ-spouse     Prof-specialty   \n",
       "\n",
       "      sex  capital gain  capital loss  working hours per week  salary  \n",
       "0    Male          2174             0                      40   <=50K  \n",
       "1    Male             0             0                      13   <=50K  \n",
       "2    Male             0             0                      40   <=50K  \n",
       "3    Male             0             0                      40   <=50K  \n",
       "4  Female             0             0                      40   <=50K  "
      ]
     },
     "execution_count": 2,
     "metadata": {},
     "output_type": "execute_result"
    }
   ],
   "source": [
    "adult_data = pd.read_csv('adult.data.csv')\n",
    "adult_data.head()"
   ]
  },
  {
   "cell_type": "markdown",
   "metadata": {},
   "source": [
    "# Basic Exploratory Data Analysis"
   ]
  },
  {
   "cell_type": "markdown",
   "metadata": {},
   "source": [
    "### Check for duplicate data across columns and drop those"
   ]
  },
  {
   "cell_type": "code",
   "execution_count": 3,
   "metadata": {
    "ExecuteTime": {
     "end_time": "2020-08-20T07:15:56.830605Z",
     "start_time": "2020-08-20T07:15:56.739820Z"
    }
   },
   "outputs": [
    {
     "name": "stdout",
     "output_type": "stream",
     "text": [
      "Number of duplicate rows = 5864\n",
      "(32561, 10)\n"
     ]
    }
   ],
   "source": [
    "dups = adult_data.duplicated()\n",
    "print('Number of duplicate rows = %d' % (dups.sum()))\n",
    "print(adult_data.shape)"
   ]
  },
  {
   "cell_type": "code",
   "execution_count": 4,
   "metadata": {
    "ExecuteTime": {
     "end_time": "2020-08-20T07:15:56.946293Z",
     "start_time": "2020-08-20T07:15:56.831600Z"
    }
   },
   "outputs": [],
   "source": [
    "adult_data.drop_duplicates(inplace=True) "
   ]
  },
  {
   "cell_type": "code",
   "execution_count": 5,
   "metadata": {
    "ExecuteTime": {
     "end_time": "2020-08-20T07:15:57.068964Z",
     "start_time": "2020-08-20T07:15:56.947291Z"
    }
   },
   "outputs": [
    {
     "name": "stdout",
     "output_type": "stream",
     "text": [
      "Number of duplicate rows = 0\n",
      "(26697, 10)\n"
     ]
    }
   ],
   "source": [
    "dups = adult_data.duplicated()\n",
    "print('Number of duplicate rows = %d' % (dups.sum()))\n",
    "print(adult_data.shape)"
   ]
  },
  {
   "cell_type": "markdown",
   "metadata": {},
   "source": [
    "### Check for missing values and impute the missing values, if any is present."
   ]
  },
  {
   "cell_type": "code",
   "execution_count": 6,
   "metadata": {
    "ExecuteTime": {
     "end_time": "2020-08-20T07:15:57.262448Z",
     "start_time": "2020-08-20T07:15:57.069963Z"
    }
   },
   "outputs": [
    {
     "data": {
      "text/plain": [
       "age                       0\n",
       "workclass                 0\n",
       "education                 0\n",
       "marrital status           0\n",
       "occupation                0\n",
       "sex                       0\n",
       "capital gain              0\n",
       "capital loss              0\n",
       "working hours per week    0\n",
       "salary                    0\n",
       "dtype: int64"
      ]
     },
     "execution_count": 6,
     "metadata": {},
     "output_type": "execute_result"
    }
   ],
   "source": [
    "adult_data.isna().sum()"
   ]
  },
  {
   "cell_type": "markdown",
   "metadata": {},
   "source": [
    "### Check the data types of all the variables and get the unique counts of all the 'Object' type variables."
   ]
  },
  {
   "cell_type": "code",
   "execution_count": 7,
   "metadata": {
    "ExecuteTime": {
     "end_time": "2020-08-20T07:15:57.491837Z",
     "start_time": "2020-08-20T07:15:57.264407Z"
    },
    "scrolled": true
   },
   "outputs": [
    {
     "name": "stdout",
     "output_type": "stream",
     "text": [
      "workclass\n",
      "Private             17474\n",
      "Self-emp-not-inc     2447\n",
      "Local-gov            1980\n",
      "?                    1519\n",
      "State-gov            1246\n",
      "Self-emp-inc         1089\n",
      "Federal-gov           921\n",
      "Without-pay            14\n",
      "Never-worked            7\n",
      "Name: workclass, dtype: int64\n",
      "\n",
      "\n",
      "education\n",
      "HS-grad         7815\n",
      "Some-college    5692\n",
      "Bachelors       4461\n",
      "Masters         1606\n",
      "Assoc-voc       1281\n",
      "Assoc-acdm      1036\n",
      "11th             987\n",
      "10th             820\n",
      "7th-8th          611\n",
      "Prof-school      562\n",
      "9th              502\n",
      "Doctorate        399\n",
      "12th             397\n",
      "5th-6th          315\n",
      "1st-4th          164\n",
      "Preschool         49\n",
      "Name: education, dtype: int64\n",
      "\n",
      "\n",
      "marrital status\n",
      "Married-civ-spouse       12679\n",
      "Never-married             7698\n",
      "Divorced                  3930\n",
      "Separated                  978\n",
      "Widowed                    971\n",
      "Married-spouse-absent      418\n",
      "Married-AF-spouse           23\n",
      "Name: marrital status, dtype: int64\n",
      "\n",
      "\n",
      "occupation\n",
      "Prof-specialty       3703\n",
      "Exec-managerial      3531\n",
      "Sales                3009\n",
      "Craft-repair         2970\n",
      "Adm-clerical         2884\n",
      "Other-service        2626\n",
      "?                    1526\n",
      "Machine-op-inspct    1483\n",
      "Transport-moving     1372\n",
      "Handlers-cleaners    1033\n",
      "Farming-fishing       951\n",
      "Tech-support          841\n",
      "Protective-serv       614\n",
      "Priv-house-serv       145\n",
      "Armed-Forces            9\n",
      "Name: occupation, dtype: int64\n",
      "\n",
      "\n",
      "sex\n",
      "Male      17862\n",
      "Female     8835\n",
      "Name: sex, dtype: int64\n",
      "\n",
      "\n",
      "salary\n",
      " <=50K    19673\n",
      " >50K      7024\n",
      "Name: salary, dtype: int64\n",
      "\n",
      "\n"
     ]
    }
   ],
   "source": [
    "for feature in adult_data.columns: \n",
    "    if adult_data[feature].dtype == 'object': \n",
    "        print(feature)\n",
    "        print(adult_data[feature].value_counts())\n",
    "        print('\\n')"
   ]
  },
  {
   "cell_type": "markdown",
   "metadata": {},
   "source": [
    "#### Since there are a lot of values which are question marks ('?'), we can choose to encode them into a  new category or we can drop rows which have these unknown question marks ('?'). \n",
    "For this exercise we have converted them into a different category and have called it 'unknown'."
   ]
  },
  {
   "cell_type": "code",
   "execution_count": 8,
   "metadata": {
    "ExecuteTime": {
     "end_time": "2020-08-20T07:15:57.638454Z",
     "start_time": "2020-08-20T07:15:57.492831Z"
    }
   },
   "outputs": [],
   "source": [
    "# Replace ? to new unknown category\n",
    "adult_data.workclass=adult_data.workclass.str.replace('?', 'unknown')\n",
    "adult_data.occupation = adult_data.occupation.str.replace('?', 'unknown')"
   ]
  },
  {
   "cell_type": "code",
   "execution_count": 9,
   "metadata": {
    "ExecuteTime": {
     "end_time": "2020-08-20T07:15:57.778074Z",
     "start_time": "2020-08-20T07:15:57.639443Z"
    },
    "scrolled": true
   },
   "outputs": [
    {
     "name": "stdout",
     "output_type": "stream",
     "text": [
      "workclass\n",
      "Private             17474\n",
      "Self-emp-not-inc     2447\n",
      "Local-gov            1980\n",
      "unknown              1519\n",
      "State-gov            1246\n",
      "Self-emp-inc         1089\n",
      "Federal-gov           921\n",
      "Without-pay            14\n",
      "Never-worked            7\n",
      "Name: workclass, dtype: int64\n",
      "\n",
      "\n",
      "education\n",
      "HS-grad         7815\n",
      "Some-college    5692\n",
      "Bachelors       4461\n",
      "Masters         1606\n",
      "Assoc-voc       1281\n",
      "Assoc-acdm      1036\n",
      "11th             987\n",
      "10th             820\n",
      "7th-8th          611\n",
      "Prof-school      562\n",
      "9th              502\n",
      "Doctorate        399\n",
      "12th             397\n",
      "5th-6th          315\n",
      "1st-4th          164\n",
      "Preschool         49\n",
      "Name: education, dtype: int64\n",
      "\n",
      "\n",
      "marrital status\n",
      "Married-civ-spouse       12679\n",
      "Never-married             7698\n",
      "Divorced                  3930\n",
      "Separated                  978\n",
      "Widowed                    971\n",
      "Married-spouse-absent      418\n",
      "Married-AF-spouse           23\n",
      "Name: marrital status, dtype: int64\n",
      "\n",
      "\n",
      "occupation\n",
      "Prof-specialty       3703\n",
      "Exec-managerial      3531\n",
      "Sales                3009\n",
      "Craft-repair         2970\n",
      "Adm-clerical         2884\n",
      "Other-service        2626\n",
      "unknown              1526\n",
      "Machine-op-inspct    1483\n",
      "Transport-moving     1372\n",
      "Handlers-cleaners    1033\n",
      "Farming-fishing       951\n",
      "Tech-support          841\n",
      "Protective-serv       614\n",
      "Priv-house-serv       145\n",
      "Armed-Forces            9\n",
      "Name: occupation, dtype: int64\n",
      "\n",
      "\n",
      "sex\n",
      "Male      17862\n",
      "Female     8835\n",
      "Name: sex, dtype: int64\n",
      "\n",
      "\n",
      "salary\n",
      " <=50K    19673\n",
      " >50K      7024\n",
      "Name: salary, dtype: int64\n",
      "\n",
      "\n"
     ]
    }
   ],
   "source": [
    "for feature in adult_data.columns: \n",
    "    if adult_data[feature].dtype == 'object': \n",
    "        print(feature)\n",
    "        print(adult_data[feature].value_counts())\n",
    "        print('\\n')"
   ]
  },
  {
   "cell_type": "code",
   "execution_count": 10,
   "metadata": {
    "ExecuteTime": {
     "end_time": "2020-08-20T07:15:57.950622Z",
     "start_time": "2020-08-20T07:15:57.779051Z"
    },
    "scrolled": true
   },
   "outputs": [],
   "source": [
    "# ## Code to drop the rows containing ' ?' symbol\n",
    "\n",
    "\n",
    "# # Copying the original data frame into a new frame\n",
    "# df_1 = adult_data.copy(deep=True)\n",
    "# print('Rows and Columns before dropping the ? symbol',df_1.shape,'\\n')\n",
    "# # Dropping the rows which has the ' ?' character\n",
    "# df_1.drop(df_1[(df_1.workclass == ' ?')].index,inplace=True)\n",
    "# df_1.drop(df_1[(df_1.occupation == ' ?')].index,inplace=True) \n",
    "\n",
    "# print('Rows and Columns after dropping the ? symbol',df_1.shape,'\\n')\n",
    "\n",
    "# # Checking whether the corresponding rows have been dropped or not\n",
    "# for feature in df_1.columns: \n",
    "#     if df_1[feature].dtype == 'object': \n",
    "#         print(feature)\n",
    "#         print(df_1[feature].value_counts())\n",
    "#         print('\\n')\n",
    "        \n",
    "# # print(df_1.head())"
   ]
  },
  {
   "cell_type": "markdown",
   "metadata": {},
   "source": [
    "### Check for the basic measures of descriptive statistics."
   ]
  },
  {
   "cell_type": "code",
   "execution_count": 11,
   "metadata": {
    "ExecuteTime": {
     "end_time": "2020-08-20T07:15:58.118126Z",
     "start_time": "2020-08-20T07:15:57.951594Z"
    }
   },
   "outputs": [
    {
     "data": {
      "text/html": [
       "<div>\n",
       "<style scoped>\n",
       "    .dataframe tbody tr th:only-of-type {\n",
       "        vertical-align: middle;\n",
       "    }\n",
       "\n",
       "    .dataframe tbody tr th {\n",
       "        vertical-align: top;\n",
       "    }\n",
       "\n",
       "    .dataframe thead th {\n",
       "        text-align: right;\n",
       "    }\n",
       "</style>\n",
       "<table border=\"1\" class=\"dataframe\">\n",
       "  <thead>\n",
       "    <tr style=\"text-align: right;\">\n",
       "      <th></th>\n",
       "      <th>age</th>\n",
       "      <th>capital gain</th>\n",
       "      <th>capital loss</th>\n",
       "      <th>working hours per week</th>\n",
       "    </tr>\n",
       "  </thead>\n",
       "  <tbody>\n",
       "    <tr>\n",
       "      <th>count</th>\n",
       "      <td>26697.000000</td>\n",
       "      <td>26697.000000</td>\n",
       "      <td>26697.000000</td>\n",
       "      <td>26697.000000</td>\n",
       "    </tr>\n",
       "    <tr>\n",
       "      <th>mean</th>\n",
       "      <td>39.987489</td>\n",
       "      <td>1304.600929</td>\n",
       "      <td>105.699330</td>\n",
       "      <td>40.852530</td>\n",
       "    </tr>\n",
       "    <tr>\n",
       "      <th>std</th>\n",
       "      <td>13.691269</td>\n",
       "      <td>8111.031099</td>\n",
       "      <td>441.214823</td>\n",
       "      <td>13.114255</td>\n",
       "    </tr>\n",
       "    <tr>\n",
       "      <th>min</th>\n",
       "      <td>17.000000</td>\n",
       "      <td>0.000000</td>\n",
       "      <td>0.000000</td>\n",
       "      <td>1.000000</td>\n",
       "    </tr>\n",
       "    <tr>\n",
       "      <th>25%</th>\n",
       "      <td>29.000000</td>\n",
       "      <td>0.000000</td>\n",
       "      <td>0.000000</td>\n",
       "      <td>38.000000</td>\n",
       "    </tr>\n",
       "    <tr>\n",
       "      <th>50%</th>\n",
       "      <td>39.000000</td>\n",
       "      <td>0.000000</td>\n",
       "      <td>0.000000</td>\n",
       "      <td>40.000000</td>\n",
       "    </tr>\n",
       "    <tr>\n",
       "      <th>75%</th>\n",
       "      <td>49.000000</td>\n",
       "      <td>0.000000</td>\n",
       "      <td>0.000000</td>\n",
       "      <td>46.000000</td>\n",
       "    </tr>\n",
       "    <tr>\n",
       "      <th>max</th>\n",
       "      <td>90.000000</td>\n",
       "      <td>99999.000000</td>\n",
       "      <td>4356.000000</td>\n",
       "      <td>99.000000</td>\n",
       "    </tr>\n",
       "  </tbody>\n",
       "</table>\n",
       "</div>"
      ],
      "text/plain": [
       "                age  capital gain  capital loss  working hours per week\n",
       "count  26697.000000  26697.000000  26697.000000            26697.000000\n",
       "mean      39.987489   1304.600929    105.699330               40.852530\n",
       "std       13.691269   8111.031099    441.214823               13.114255\n",
       "min       17.000000      0.000000      0.000000                1.000000\n",
       "25%       29.000000      0.000000      0.000000               38.000000\n",
       "50%       39.000000      0.000000      0.000000               40.000000\n",
       "75%       49.000000      0.000000      0.000000               46.000000\n",
       "max       90.000000  99999.000000   4356.000000               99.000000"
      ]
     },
     "execution_count": 11,
     "metadata": {},
     "output_type": "execute_result"
    }
   ],
   "source": [
    "adult_data.describe()"
   ]
  },
  {
   "cell_type": "markdown",
   "metadata": {},
   "source": [
    "### Check the spread of the data using boxplot for the continuous variables."
   ]
  },
  {
   "cell_type": "code",
   "execution_count": 12,
   "metadata": {
    "ExecuteTime": {
     "end_time": "2020-08-20T07:15:58.685641Z",
     "start_time": "2020-08-20T07:15:58.119122Z"
    },
    "scrolled": false
   },
   "outputs": [
    {
     "data": {
      "image/png": "[encoded data removed]",
      "text/plain": [
       "<Figure size 432x288 with 1 Axes>"
      ]
     },
     "metadata": {
      "needs_background": "light"
     },
     "output_type": "display_data"
    },
    {
     "data": {
      "image/png": "[encoded data removed]",
      "text/plain": [
       "<Figure size 432x288 with 1 Axes>"
      ]
     },
     "metadata": {
      "needs_background": "light"
     },
     "output_type": "display_data"
    },
    {
     "data": {
      "image/png": "[encoded data removed]",
      "text/plain": [
       "<Figure size 432x288 with 1 Axes>"
      ]
     },
     "metadata": {
      "needs_background": "light"
     },
     "output_type": "display_data"
    },
    {
     "data": {
      "image/png": "[encoded data removed]",
      "text/plain": [
       "<Figure size 432x288 with 1 Axes>"
      ]
     },
     "metadata": {
      "needs_background": "light"
     },
     "output_type": "display_data"
    }
   ],
   "source": [
    "cols = ['age','capital gain','capital loss','working hours per week']\n",
    "for i in cols:\n",
    "    sns.boxplot(adult_data[i],whis=1.5)\n",
    "    plt.grid()\n",
    "    plt.show();"
   ]
  },
  {
   "cell_type": "code",
   "execution_count": 13,
   "metadata": {},
   "outputs": [
    {
     "data": {
      "image/png": "[encoded data removed]",
      "text/plain": [
       "<Figure size 432x288 with 2 Axes>"
      ]
     },
     "metadata": {
      "needs_background": "light"
     },
     "output_type": "display_data"
    }
   ],
   "source": [
    "sns.heatmap(adult_data.corr(), annot=True,mask=np.triu(adult_data.corr(),+1));"
   ]
  },
  {
   "cell_type": "code",
   "execution_count": 14,
   "metadata": {},
   "outputs": [
    {
     "data": {
      "text/plain": [
       "<matplotlib.axes._subplots.AxesSubplot at 0x176dd474ac8>"
      ]
     },
     "execution_count": 14,
     "metadata": {},
     "output_type": "execute_result"
    },
    {
     "data": {
      "image/png": "[encoded data removed]",
      "text/plain": [
       "<Figure size 432x288 with 1 Axes>"
      ]
     },
     "metadata": {
      "needs_background": "light"
     },
     "output_type": "display_data"
    }
   ],
   "source": [
    "sns.scatterplot(x='capital gain',y='capital loss',data=adult_data,hue='salary')"
   ]
  },
  {
   "cell_type": "code",
   "execution_count": 15,
   "metadata": {},
   "outputs": [
    {
     "data": {
      "text/plain": [
       "<matplotlib.axes._subplots.AxesSubplot at 0x176dd427408>"
      ]
     },
     "execution_count": 15,
     "metadata": {},
     "output_type": "execute_result"
    },
    {
     "data": {
      "image/png": "[encoded data removed]",
      "text/plain": [
       "<Figure size 432x288 with 1 Axes>"
      ]
     },
     "metadata": {
      "needs_background": "light"
     },
     "output_type": "display_data"
    }
   ],
   "source": [
    "sns.scatterplot(x='age',y='working hours per week',data=adult_data,hue='salary')"
   ]
  },
  {
   "cell_type": "code",
   "execution_count": 16,
   "metadata": {},
   "outputs": [
    {
     "data": {
      "text/plain": [
       "<matplotlib.axes._subplots.AxesSubplot at 0x176dd535888>"
      ]
     },
     "execution_count": 16,
     "metadata": {},
     "output_type": "execute_result"
    },
    {
     "data": {
      "image/png": "[encoded data removed]",
      "text/plain": [
       "<Figure size 432x288 with 1 Axes>"
      ]
     },
     "metadata": {
      "needs_background": "light"
     },
     "output_type": "display_data"
    }
   ],
   "source": [
    "sns.scatterplot(x='age',y='capital gain',data=adult_data,hue='salary')"
   ]
  },
  {
   "cell_type": "code",
   "execution_count": 17,
   "metadata": {},
   "outputs": [
    {
     "data": {
      "text/plain": [
       "<matplotlib.axes._subplots.AxesSubplot at 0x176de59c5c8>"
      ]
     },
     "execution_count": 17,
     "metadata": {},
     "output_type": "execute_result"
    },
    {
     "data": {
      "image/png": "[encoded data removed]",
      "text/plain": [
       "<Figure size 432x288 with 1 Axes>"
      ]
     },
     "metadata": {
      "needs_background": "light"
     },
     "output_type": "display_data"
    }
   ],
   "source": [
    "sns.scatterplot(x='age',y='capital loss',data=adult_data,hue='salary')"
   ]
  },
  {
   "cell_type": "markdown",
   "metadata": {},
   "source": [
    "Dropping the variables of capital gain and capital loss as the majority of the values are zero."
   ]
  },
  {
   "cell_type": "code",
   "execution_count": 18,
   "metadata": {
    "ExecuteTime": {
     "end_time": "2020-08-20T07:15:58.700567Z",
     "start_time": "2020-08-20T07:15:58.686639Z"
    }
   },
   "outputs": [
    {
     "data": {
      "text/html": [
       "<div>\n",
       "<style scoped>\n",
       "    .dataframe tbody tr th:only-of-type {\n",
       "        vertical-align: middle;\n",
       "    }\n",
       "\n",
       "    .dataframe tbody tr th {\n",
       "        vertical-align: top;\n",
       "    }\n",
       "\n",
       "    .dataframe thead th {\n",
       "        text-align: right;\n",
       "    }\n",
       "</style>\n",
       "<table border=\"1\" class=\"dataframe\">\n",
       "  <thead>\n",
       "    <tr style=\"text-align: right;\">\n",
       "      <th></th>\n",
       "      <th>age</th>\n",
       "      <th>workclass</th>\n",
       "      <th>education</th>\n",
       "      <th>marrital status</th>\n",
       "      <th>occupation</th>\n",
       "      <th>sex</th>\n",
       "      <th>working hours per week</th>\n",
       "      <th>salary</th>\n",
       "    </tr>\n",
       "  </thead>\n",
       "  <tbody>\n",
       "    <tr>\n",
       "      <th>0</th>\n",
       "      <td>39</td>\n",
       "      <td>State-gov</td>\n",
       "      <td>Bachelors</td>\n",
       "      <td>Never-married</td>\n",
       "      <td>Adm-clerical</td>\n",
       "      <td>Male</td>\n",
       "      <td>40</td>\n",
       "      <td>&lt;=50K</td>\n",
       "    </tr>\n",
       "    <tr>\n",
       "      <th>1</th>\n",
       "      <td>50</td>\n",
       "      <td>Self-emp-not-inc</td>\n",
       "      <td>Bachelors</td>\n",
       "      <td>Married-civ-spouse</td>\n",
       "      <td>Exec-managerial</td>\n",
       "      <td>Male</td>\n",
       "      <td>13</td>\n",
       "      <td>&lt;=50K</td>\n",
       "    </tr>\n",
       "    <tr>\n",
       "      <th>2</th>\n",
       "      <td>38</td>\n",
       "      <td>Private</td>\n",
       "      <td>HS-grad</td>\n",
       "      <td>Divorced</td>\n",
       "      <td>Handlers-cleaners</td>\n",
       "      <td>Male</td>\n",
       "      <td>40</td>\n",
       "      <td>&lt;=50K</td>\n",
       "    </tr>\n",
       "    <tr>\n",
       "      <th>3</th>\n",
       "      <td>53</td>\n",
       "      <td>Private</td>\n",
       "      <td>11th</td>\n",
       "      <td>Married-civ-spouse</td>\n",
       "      <td>Handlers-cleaners</td>\n",
       "      <td>Male</td>\n",
       "      <td>40</td>\n",
       "      <td>&lt;=50K</td>\n",
       "    </tr>\n",
       "    <tr>\n",
       "      <th>4</th>\n",
       "      <td>28</td>\n",
       "      <td>Private</td>\n",
       "      <td>Bachelors</td>\n",
       "      <td>Married-civ-spouse</td>\n",
       "      <td>Prof-specialty</td>\n",
       "      <td>Female</td>\n",
       "      <td>40</td>\n",
       "      <td>&lt;=50K</td>\n",
       "    </tr>\n",
       "  </tbody>\n",
       "</table>\n",
       "</div>"
      ],
      "text/plain": [
       "   age         workclass  education     marrital status         occupation  \\\n",
       "0   39         State-gov  Bachelors       Never-married       Adm-clerical   \n",
       "1   50  Self-emp-not-inc  Bachelors  Married-civ-spouse    Exec-managerial   \n",
       "2   38           Private    HS-grad            Divorced  Handlers-cleaners   \n",
       "3   53           Private       11th  Married-civ-spouse  Handlers-cleaners   \n",
       "4   28           Private  Bachelors  Married-civ-spouse     Prof-specialty   \n",
       "\n",
       "      sex  working hours per week  salary  \n",
       "0    Male                      40   <=50K  \n",
       "1    Male                      13   <=50K  \n",
       "2    Male                      40   <=50K  \n",
       "3    Male                      40   <=50K  \n",
       "4  Female                      40   <=50K  "
      ]
     },
     "execution_count": 18,
     "metadata": {},
     "output_type": "execute_result"
    }
   ],
   "source": [
    "adult_data.drop(labels=['capital gain','capital loss'],axis=1,inplace=True)\n",
    "adult_data.head()"
   ]
  },
  {
   "cell_type": "markdown",
   "metadata": {},
   "source": [
    "### Treating the outliers at 1.5 * IQR (Inter-Quartile Range). \n",
    "For this exercises, we are not treating the outliers. But please do play around with the data and try out such treatments."
   ]
  },
  {
   "cell_type": "code",
   "execution_count": 19,
   "metadata": {
    "ExecuteTime": {
     "end_time": "2020-08-20T07:15:58.826232Z",
     "start_time": "2020-08-20T07:15:58.701565Z"
    },
    "scrolled": true
   },
   "outputs": [],
   "source": [
    "# # Defining a function for getting the Upper and Lower limt acceptance of the outliers at 1.5*IQR. \n",
    "# # We can choose to treat the outliers at 3*IQR as well\n",
    "\n",
    "# def remove_outlier(col):\n",
    "#     sorted(col)\n",
    "#     Q1,Q3=np.percentile(col,[25,75])\n",
    "#     IQR=Q3-Q1\n",
    "#     lower_range= Q1-(1.5 * IQR)\n",
    "#     upper_range= Q3+(1.5 * IQR)\n",
    "#     return lower_range, upper_range"
   ]
  },
  {
   "cell_type": "code",
   "execution_count": 20,
   "metadata": {
    "ExecuteTime": {
     "end_time": "2020-08-20T07:15:58.965859Z",
     "start_time": "2020-08-20T07:15:58.827230Z"
    }
   },
   "outputs": [],
   "source": [
    "## This is a loop to treat outliers for all the non-'object' type varible\n",
    "\n",
    "# for column in adult_data.columns:\n",
    "#     if adult_data[column].dtype != 'object': \n",
    "#         lr,ur=remove_outlier(adult_data[column])\n",
    "#         adult_data[column]=np.where(adult_data[column]>ur,ur,adult_data[column])\n",
    "#         adult_data[column]=np.where(adult_data[column]<lr,lr,adult_data[column])"
   ]
  },
  {
   "cell_type": "markdown",
   "metadata": {},
   "source": [
    "### Checking for Correlations. Print the correlation matrix and the correlation heatmap."
   ]
  },
  {
   "cell_type": "code",
   "execution_count": 21,
   "metadata": {
    "ExecuteTime": {
     "end_time": "2020-08-20T07:15:59.096544Z",
     "start_time": "2020-08-20T07:15:58.966890Z"
    }
   },
   "outputs": [
    {
     "data": {
      "text/html": [
       "<div>\n",
       "<style scoped>\n",
       "    .dataframe tbody tr th:only-of-type {\n",
       "        vertical-align: middle;\n",
       "    }\n",
       "\n",
       "    .dataframe tbody tr th {\n",
       "        vertical-align: top;\n",
       "    }\n",
       "\n",
       "    .dataframe thead th {\n",
       "        text-align: right;\n",
       "    }\n",
       "</style>\n",
       "<table border=\"1\" class=\"dataframe\">\n",
       "  <thead>\n",
       "    <tr style=\"text-align: right;\">\n",
       "      <th></th>\n",
       "      <th>age</th>\n",
       "      <th>working hours per week</th>\n",
       "    </tr>\n",
       "  </thead>\n",
       "  <tbody>\n",
       "    <tr>\n",
       "      <th>age</th>\n",
       "      <td>1.000000</td>\n",
       "      <td>0.019571</td>\n",
       "    </tr>\n",
       "    <tr>\n",
       "      <th>working hours per week</th>\n",
       "      <td>0.019571</td>\n",
       "      <td>1.000000</td>\n",
       "    </tr>\n",
       "  </tbody>\n",
       "</table>\n",
       "</div>"
      ],
      "text/plain": [
       "                             age  working hours per week\n",
       "age                     1.000000                0.019571\n",
       "working hours per week  0.019571                1.000000"
      ]
     },
     "execution_count": 21,
     "metadata": {},
     "output_type": "execute_result"
    }
   ],
   "source": [
    "adult_data.corr()"
   ]
  },
  {
   "cell_type": "code",
   "execution_count": 22,
   "metadata": {
    "ExecuteTime": {
     "end_time": "2020-08-20T07:15:59.377791Z",
     "start_time": "2020-08-20T07:15:59.097505Z"
    }
   },
   "outputs": [
    {
     "data": {
      "image/png": "[encoded data removed]",
      "text/plain": [
       "<Figure size 432x288 with 2 Axes>"
      ]
     },
     "metadata": {
      "needs_background": "light"
     },
     "output_type": "display_data"
    }
   ],
   "source": [
    "sns.heatmap(adult_data.corr(), annot=True,mask=np.triu(adult_data.corr(),+1));"
   ]
  },
  {
   "cell_type": "markdown",
   "metadata": {},
   "source": [
    "### Plot a series of scatterplots between the continuous independent variables keeping the target variable as a hue."
   ]
  },
  {
   "cell_type": "code",
   "execution_count": 23,
   "metadata": {
    "ExecuteTime": {
     "end_time": "2020-08-20T07:16:00.804941Z",
     "start_time": "2020-08-20T07:15:59.378788Z"
    }
   },
   "outputs": [
    {
     "data": {
      "image/png": "[encoded data removed]",
      "text/plain": [
       "<Figure size 435x360 with 6 Axes>"
      ]
     },
     "metadata": {
      "needs_background": "light"
     },
     "output_type": "display_data"
    }
   ],
   "source": [
    "# Pairplot using sns\n",
    "sns.pairplot(adult_data ,diag_kind='kde' ,hue='salary');"
   ]
  },
  {
   "cell_type": "markdown",
   "metadata": {},
   "source": [
    "### Change the names of the variables in a suitable way for building the logistic regression model."
   ]
  },
  {
   "cell_type": "code",
   "execution_count": 24,
   "metadata": {
    "ExecuteTime": {
     "end_time": "2020-08-20T07:16:00.812919Z",
     "start_time": "2020-08-20T07:16:00.805939Z"
    }
   },
   "outputs": [],
   "source": [
    "adult_data.rename(columns = {'working hours per week':'working_hours_per_week','marrital status':'marritalstatus'}, inplace = True)"
   ]
  },
  {
   "cell_type": "markdown",
   "metadata": {},
   "source": [
    "### Treat the object variables appropriately by either creating dummy variables (One-Hot Encoding) or coding it up in an ordinal manner."
   ]
  },
  {
   "cell_type": "code",
   "execution_count": 25,
   "metadata": {
    "ExecuteTime": {
     "end_time": "2020-08-20T07:16:00.937585Z",
     "start_time": "2020-08-20T07:16:00.813917Z"
    }
   },
   "outputs": [
    {
     "data": {
      "text/html": [
       "<div>\n",
       "<style scoped>\n",
       "    .dataframe tbody tr th:only-of-type {\n",
       "        vertical-align: middle;\n",
       "    }\n",
       "\n",
       "    .dataframe tbody tr th {\n",
       "        vertical-align: top;\n",
       "    }\n",
       "\n",
       "    .dataframe thead th {\n",
       "        text-align: right;\n",
       "    }\n",
       "</style>\n",
       "<table border=\"1\" class=\"dataframe\">\n",
       "  <thead>\n",
       "    <tr style=\"text-align: right;\">\n",
       "      <th></th>\n",
       "      <th>age</th>\n",
       "      <th>workclass</th>\n",
       "      <th>education</th>\n",
       "      <th>marritalstatus</th>\n",
       "      <th>occupation</th>\n",
       "      <th>sex</th>\n",
       "      <th>working_hours_per_week</th>\n",
       "      <th>salary</th>\n",
       "    </tr>\n",
       "  </thead>\n",
       "  <tbody>\n",
       "    <tr>\n",
       "      <th>0</th>\n",
       "      <td>39</td>\n",
       "      <td>State-gov</td>\n",
       "      <td>Bachelors</td>\n",
       "      <td>Never-married</td>\n",
       "      <td>Adm-clerical</td>\n",
       "      <td>Male</td>\n",
       "      <td>40</td>\n",
       "      <td>&lt;=50K</td>\n",
       "    </tr>\n",
       "    <tr>\n",
       "      <th>1</th>\n",
       "      <td>50</td>\n",
       "      <td>Self-emp-not-inc</td>\n",
       "      <td>Bachelors</td>\n",
       "      <td>Married-civ-spouse</td>\n",
       "      <td>Exec-managerial</td>\n",
       "      <td>Male</td>\n",
       "      <td>13</td>\n",
       "      <td>&lt;=50K</td>\n",
       "    </tr>\n",
       "    <tr>\n",
       "      <th>2</th>\n",
       "      <td>38</td>\n",
       "      <td>Private</td>\n",
       "      <td>HS-grad</td>\n",
       "      <td>Divorced</td>\n",
       "      <td>Handlers-cleaners</td>\n",
       "      <td>Male</td>\n",
       "      <td>40</td>\n",
       "      <td>&lt;=50K</td>\n",
       "    </tr>\n",
       "    <tr>\n",
       "      <th>3</th>\n",
       "      <td>53</td>\n",
       "      <td>Private</td>\n",
       "      <td>11th</td>\n",
       "      <td>Married-civ-spouse</td>\n",
       "      <td>Handlers-cleaners</td>\n",
       "      <td>Male</td>\n",
       "      <td>40</td>\n",
       "      <td>&lt;=50K</td>\n",
       "    </tr>\n",
       "    <tr>\n",
       "      <th>4</th>\n",
       "      <td>28</td>\n",
       "      <td>Private</td>\n",
       "      <td>Bachelors</td>\n",
       "      <td>Married-civ-spouse</td>\n",
       "      <td>Prof-specialty</td>\n",
       "      <td>Female</td>\n",
       "      <td>40</td>\n",
       "      <td>&lt;=50K</td>\n",
       "    </tr>\n",
       "  </tbody>\n",
       "</table>\n",
       "</div>"
      ],
      "text/plain": [
       "   age         workclass  education      marritalstatus         occupation  \\\n",
       "0   39         State-gov  Bachelors       Never-married       Adm-clerical   \n",
       "1   50  Self-emp-not-inc  Bachelors  Married-civ-spouse    Exec-managerial   \n",
       "2   38           Private    HS-grad            Divorced  Handlers-cleaners   \n",
       "3   53           Private       11th  Married-civ-spouse  Handlers-cleaners   \n",
       "4   28           Private  Bachelors  Married-civ-spouse     Prof-specialty   \n",
       "\n",
       "      sex  working_hours_per_week  salary  \n",
       "0    Male                      40   <=50K  \n",
       "1    Male                      13   <=50K  \n",
       "2    Male                      40   <=50K  \n",
       "3    Male                      40   <=50K  \n",
       "4  Female                      40   <=50K  "
      ]
     },
     "execution_count": 25,
     "metadata": {},
     "output_type": "execute_result"
    }
   ],
   "source": [
    "adult_data.head()"
   ]
  },
  {
   "cell_type": "code",
   "execution_count": 26,
   "metadata": {
    "ExecuteTime": {
     "end_time": "2020-08-20T07:16:01.121105Z",
     "start_time": "2020-08-20T07:16:00.938583Z"
    }
   },
   "outputs": [],
   "source": [
    "## We are coding up the 'education' variable in an ordinal manner\n",
    "\n",
    "adult_data['education']=np.where(adult_data['education'] =='Preschool', '1', adult_data['education'])\n",
    "adult_data['education']=np.where(adult_data['education'] =='1st-4th', '2', adult_data['education'])\n",
    "adult_data['education']=np.where(adult_data['education'] =='5th-6th', '3', adult_data['education'])\n",
    "adult_data['education']=np.where(adult_data['education'] =='7th-8th', '4', adult_data['education'])\n",
    "adult_data['education']=np.where(adult_data['education'] =='9th', '5', adult_data['education'])\n",
    "adult_data['education']=np.where(adult_data['education'] =='10th', '6', adult_data['education'])\n",
    "adult_data['education']=np.where(adult_data['education'] =='11th', '7', adult_data['education'])\n",
    "adult_data['education']=np.where(adult_data['education'] =='12th', '8', adult_data['education'])\n",
    "adult_data['education']=np.where(adult_data['education'] =='HS-grad', '9', adult_data['education'])\n",
    "adult_data['education']=np.where(adult_data['education'] =='Prof-school', '9', adult_data['education'])\n",
    "adult_data['education']=np.where(adult_data['education'] =='Assoc-acdm', '10', adult_data['education'])\n",
    "adult_data['education']=np.where(adult_data['education'] =='Assoc-voc', '11', adult_data['education'])\n",
    "adult_data['education']=np.where(adult_data['education'] =='Some-college', '12', adult_data['education'])\n",
    "adult_data['education']=np.where(adult_data['education'] =='Bachelors', '13', adult_data['education'])\n",
    "adult_data['education']=np.where(adult_data['education'] =='Masters', '14', adult_data['education'])\n",
    "adult_data['education']=np.where(adult_data['education'] =='Doctorate', '15', adult_data['education'])"
   ]
  },
  {
   "cell_type": "code",
   "execution_count": 27,
   "metadata": {
    "ExecuteTime": {
     "end_time": "2020-08-20T07:16:01.293676Z",
     "start_time": "2020-08-20T07:16:01.125084Z"
    }
   },
   "outputs": [],
   "source": [
    "## We are grouping certain types of 'workclass' under different categories\n",
    "\n",
    "adult_data['workclass']=np.where(adult_data['workclass'] =='Federal-gov', 'Government', adult_data['workclass'])\n",
    "adult_data['workclass']=np.where(adult_data['workclass'] =='Local-gov', 'Government', adult_data['workclass'])\n",
    "adult_data['workclass']=np.where(adult_data['workclass'] =='State-gov', 'Government', adult_data['workclass'])\n",
    "adult_data['workclass']=np.where(adult_data['workclass'] =='Self-emp-inc', 'Others', adult_data['workclass'])\n",
    "adult_data['workclass']=np.where(adult_data['workclass'] =='Self-emp-not-inc', 'Others', adult_data['workclass'])\n",
    "adult_data['workclass']=np.where(adult_data['workclass'] =='unknown', 'Others', adult_data['workclass'])\n",
    "adult_data['workclass']=np.where(adult_data['workclass'] =='Without-pay', 'Others', adult_data['workclass'])\n",
    "adult_data['workclass']=np.where(adult_data['workclass'] =='Never-worked', 'Others', adult_data['workclass'])"
   ]
  },
  {
   "cell_type": "code",
   "execution_count": 28,
   "metadata": {
    "ExecuteTime": {
     "end_time": "2020-08-20T07:16:01.432298Z",
     "start_time": "2020-08-20T07:16:01.295628Z"
    }
   },
   "outputs": [],
   "source": [
    "## We are grouping certain types of 'marritalstatus' under different categories\n",
    "\n",
    "adult_data['marritalstatus']=np.where(adult_data['marritalstatus'] =='Divorced', 'CurrentlySingle', adult_data['marritalstatus'])\n",
    "adult_data['marritalstatus']=np.where(adult_data['marritalstatus'] =='Separated', 'CurrentlySingle', adult_data['marritalstatus'])\n",
    "adult_data['marritalstatus']=np.where(adult_data['marritalstatus'] =='Never-married', 'CurrentlySingle', adult_data['marritalstatus'])\n",
    "adult_data['marritalstatus']=np.where(adult_data['marritalstatus'] =='Widowed', 'CurrentlySingle', adult_data['marritalstatus'])\n",
    "adult_data['marritalstatus']=np.where(adult_data['marritalstatus'] =='Married-civ-spouse', 'Married', adult_data['marritalstatus'])\n",
    "adult_data['marritalstatus']=np.where(adult_data['marritalstatus'] =='Married-spouse-absent', 'Married', adult_data['marritalstatus'])\n",
    "adult_data['marritalstatus']=np.where(adult_data['marritalstatus'] =='Married-AF-absent', 'Married', adult_data['marritalstatus'])\n",
    "adult_data['marritalstatus']=np.where(adult_data['marritalstatus'] =='Married-AF-spouse', 'Married', adult_data['marritalstatus'])"
   ]
  },
  {
   "cell_type": "code",
   "execution_count": 29,
   "metadata": {
    "ExecuteTime": {
     "end_time": "2020-08-20T07:16:01.615773Z",
     "start_time": "2020-08-20T07:16:01.435255Z"
    }
   },
   "outputs": [],
   "source": [
    "## We are grouping certain types of 'occupation' under different categories\n",
    "\n",
    "adult_data['occupation']=np.where(adult_data['occupation'] =='Adm-clerical', 'WhiteCollar', adult_data['occupation'])\n",
    "adult_data['occupation']=np.where(adult_data['occupation'] =='Exec-managerial', 'WhiteCollar', adult_data['occupation'])\n",
    "adult_data['occupation']=np.where(adult_data['occupation'] =='Craft-repair', 'BlueCollar', adult_data['occupation'])\n",
    "adult_data['occupation']=np.where(adult_data['occupation'] =='Handlers-cleaners', 'BlueCollar', adult_data['occupation'])\n",
    "adult_data['occupation']=np.where(adult_data['occupation'] =='Transport-moving', 'BlueCollar', adult_data['occupation'])\n",
    "adult_data['occupation']=np.where(adult_data['occupation'] =='Farming-fishing', 'BlueCollar', adult_data['occupation'])\n",
    "adult_data['occupation']=np.where(adult_data['occupation'] =='Machine-op-inspct', 'BlueCollar', adult_data['occupation'])\n",
    "adult_data['occupation']=np.where(adult_data['occupation'] =='Tech-support', 'Service', adult_data['occupation'])\n",
    "adult_data['occupation']=np.where(adult_data['occupation'] =='Other-service', 'Service', adult_data['occupation'])\n",
    "adult_data['occupation']=np.where(adult_data['occupation'] =='Protective-serv', 'Service', adult_data['occupation'])\n",
    "adult_data['occupation']=np.where(adult_data['occupation'] =='Priv-house-serv', 'Service', adult_data['occupation'])\n",
    "adult_data['occupation']=np.where(adult_data['occupation'] =='Prof-specialty', 'Service', adult_data['occupation'])\n",
    "adult_data['occupation']=np.where(adult_data['occupation'] =='unknown', 'Unknown_Others', adult_data['occupation'])\n",
    "adult_data['occupation']=np.where(adult_data['occupation'] =='Armed-Forces', 'Unknown_Others', adult_data['occupation'])"
   ]
  },
  {
   "cell_type": "code",
   "execution_count": 30,
   "metadata": {
    "ExecuteTime": {
     "end_time": "2020-08-20T07:16:01.789635Z",
     "start_time": "2020-08-20T07:16:01.616808Z"
    }
   },
   "outputs": [
    {
     "data": {
      "text/html": [
       "<div>\n",
       "<style scoped>\n",
       "    .dataframe tbody tr th:only-of-type {\n",
       "        vertical-align: middle;\n",
       "    }\n",
       "\n",
       "    .dataframe tbody tr th {\n",
       "        vertical-align: top;\n",
       "    }\n",
       "\n",
       "    .dataframe thead th {\n",
       "        text-align: right;\n",
       "    }\n",
       "</style>\n",
       "<table border=\"1\" class=\"dataframe\">\n",
       "  <thead>\n",
       "    <tr style=\"text-align: right;\">\n",
       "      <th></th>\n",
       "      <th>age</th>\n",
       "      <th>workclass</th>\n",
       "      <th>education</th>\n",
       "      <th>marritalstatus</th>\n",
       "      <th>occupation</th>\n",
       "      <th>sex</th>\n",
       "      <th>working_hours_per_week</th>\n",
       "      <th>salary</th>\n",
       "    </tr>\n",
       "  </thead>\n",
       "  <tbody>\n",
       "    <tr>\n",
       "      <th>0</th>\n",
       "      <td>39</td>\n",
       "      <td>Government</td>\n",
       "      <td>13</td>\n",
       "      <td>CurrentlySingle</td>\n",
       "      <td>WhiteCollar</td>\n",
       "      <td>Male</td>\n",
       "      <td>40</td>\n",
       "      <td>&lt;=50K</td>\n",
       "    </tr>\n",
       "    <tr>\n",
       "      <th>1</th>\n",
       "      <td>50</td>\n",
       "      <td>Others</td>\n",
       "      <td>13</td>\n",
       "      <td>Married</td>\n",
       "      <td>WhiteCollar</td>\n",
       "      <td>Male</td>\n",
       "      <td>13</td>\n",
       "      <td>&lt;=50K</td>\n",
       "    </tr>\n",
       "    <tr>\n",
       "      <th>2</th>\n",
       "      <td>38</td>\n",
       "      <td>Private</td>\n",
       "      <td>9</td>\n",
       "      <td>CurrentlySingle</td>\n",
       "      <td>BlueCollar</td>\n",
       "      <td>Male</td>\n",
       "      <td>40</td>\n",
       "      <td>&lt;=50K</td>\n",
       "    </tr>\n",
       "    <tr>\n",
       "      <th>3</th>\n",
       "      <td>53</td>\n",
       "      <td>Private</td>\n",
       "      <td>7</td>\n",
       "      <td>Married</td>\n",
       "      <td>BlueCollar</td>\n",
       "      <td>Male</td>\n",
       "      <td>40</td>\n",
       "      <td>&lt;=50K</td>\n",
       "    </tr>\n",
       "    <tr>\n",
       "      <th>4</th>\n",
       "      <td>28</td>\n",
       "      <td>Private</td>\n",
       "      <td>13</td>\n",
       "      <td>Married</td>\n",
       "      <td>Service</td>\n",
       "      <td>Female</td>\n",
       "      <td>40</td>\n",
       "      <td>&lt;=50K</td>\n",
       "    </tr>\n",
       "  </tbody>\n",
       "</table>\n",
       "</div>"
      ],
      "text/plain": [
       "   age   workclass education   marritalstatus   occupation     sex  \\\n",
       "0   39  Government        13  CurrentlySingle  WhiteCollar    Male   \n",
       "1   50      Others        13          Married  WhiteCollar    Male   \n",
       "2   38     Private         9  CurrentlySingle   BlueCollar    Male   \n",
       "3   53     Private         7          Married   BlueCollar    Male   \n",
       "4   28     Private        13          Married      Service  Female   \n",
       "\n",
       "   working_hours_per_week  salary  \n",
       "0                      40   <=50K  \n",
       "1                      13   <=50K  \n",
       "2                      40   <=50K  \n",
       "3                      40   <=50K  \n",
       "4                      40   <=50K  "
      ]
     },
     "execution_count": 30,
     "metadata": {},
     "output_type": "execute_result"
    }
   ],
   "source": [
    "adult_data.head()"
   ]
  },
  {
   "cell_type": "code",
   "execution_count": 31,
   "metadata": {
    "ExecuteTime": {
     "end_time": "2020-08-20T07:16:02.085749Z",
     "start_time": "2020-08-20T07:16:01.790632Z"
    }
   },
   "outputs": [
    {
     "name": "stdout",
     "output_type": "stream",
     "text": [
      "<class 'pandas.core.frame.DataFrame'>\n",
      "Int64Index: 26697 entries, 0 to 32560\n",
      "Data columns (total 8 columns):\n",
      " #   Column                  Non-Null Count  Dtype \n",
      "---  ------                  --------------  ----- \n",
      " 0   age                     26697 non-null  int64 \n",
      " 1   workclass               26697 non-null  object\n",
      " 2   education               26697 non-null  object\n",
      " 3   marritalstatus          26697 non-null  object\n",
      " 4   occupation              26697 non-null  object\n",
      " 5   sex                     26697 non-null  object\n",
      " 6   working_hours_per_week  26697 non-null  int64 \n",
      " 7   salary                  26697 non-null  object\n",
      "dtypes: int64(2), object(6)\n",
      "memory usage: 1.8+ MB\n"
     ]
    }
   ],
   "source": [
    "adult_data.info()"
   ]
  },
  {
   "cell_type": "code",
   "execution_count": 32,
   "metadata": {
    "ExecuteTime": {
     "end_time": "2020-08-20T07:16:02.222437Z",
     "start_time": "2020-08-20T07:16:02.086712Z"
    }
   },
   "outputs": [
    {
     "name": "stdout",
     "output_type": "stream",
     "text": [
      "<class 'pandas.core.frame.DataFrame'>\n",
      "Int64Index: 26697 entries, 0 to 32560\n",
      "Data columns (total 8 columns):\n",
      " #   Column                  Non-Null Count  Dtype \n",
      "---  ------                  --------------  ----- \n",
      " 0   age                     26697 non-null  int64 \n",
      " 1   workclass               26697 non-null  object\n",
      " 2   education               26697 non-null  int64 \n",
      " 3   marritalstatus          26697 non-null  object\n",
      " 4   occupation              26697 non-null  object\n",
      " 5   sex                     26697 non-null  object\n",
      " 6   working_hours_per_week  26697 non-null  int64 \n",
      " 7   salary                  26697 non-null  object\n",
      "dtypes: int64(3), object(5)\n",
      "memory usage: 1.8+ MB\n"
     ]
    }
   ],
   "source": [
    "## Converting the education variable to numeric\n",
    "\n",
    "adult_data['education'] = adult_data['education'].astype('int64')\n",
    "adult_data.info()"
   ]
  },
  {
   "cell_type": "code",
   "execution_count": 33,
   "metadata": {
    "ExecuteTime": {
     "end_time": "2020-08-20T07:16:02.409474Z",
     "start_time": "2020-08-20T07:16:02.223435Z"
    }
   },
   "outputs": [],
   "source": [
    "## Converting the 'salary' Variable into numeric by using the LabelEncoder functionality inside sklearn.\n",
    "from sklearn.preprocessing import LabelEncoder\n",
    "\n",
    "## Defining a Label Encoder object instance\n",
    "LE = LabelEncoder()"
   ]
  },
  {
   "cell_type": "code",
   "execution_count": 34,
   "metadata": {
    "ExecuteTime": {
     "end_time": "2020-08-20T07:16:02.556214Z",
     "start_time": "2020-08-20T07:16:02.410463Z"
    }
   },
   "outputs": [
    {
     "data": {
      "text/html": [
       "<div>\n",
       "<style scoped>\n",
       "    .dataframe tbody tr th:only-of-type {\n",
       "        vertical-align: middle;\n",
       "    }\n",
       "\n",
       "    .dataframe tbody tr th {\n",
       "        vertical-align: top;\n",
       "    }\n",
       "\n",
       "    .dataframe thead th {\n",
       "        text-align: right;\n",
       "    }\n",
       "</style>\n",
       "<table border=\"1\" class=\"dataframe\">\n",
       "  <thead>\n",
       "    <tr style=\"text-align: right;\">\n",
       "      <th></th>\n",
       "      <th>age</th>\n",
       "      <th>workclass</th>\n",
       "      <th>education</th>\n",
       "      <th>marritalstatus</th>\n",
       "      <th>occupation</th>\n",
       "      <th>sex</th>\n",
       "      <th>working_hours_per_week</th>\n",
       "      <th>salary</th>\n",
       "    </tr>\n",
       "  </thead>\n",
       "  <tbody>\n",
       "    <tr>\n",
       "      <th>0</th>\n",
       "      <td>39</td>\n",
       "      <td>Government</td>\n",
       "      <td>13</td>\n",
       "      <td>CurrentlySingle</td>\n",
       "      <td>WhiteCollar</td>\n",
       "      <td>Male</td>\n",
       "      <td>40</td>\n",
       "      <td>0</td>\n",
       "    </tr>\n",
       "    <tr>\n",
       "      <th>1</th>\n",
       "      <td>50</td>\n",
       "      <td>Others</td>\n",
       "      <td>13</td>\n",
       "      <td>Married</td>\n",
       "      <td>WhiteCollar</td>\n",
       "      <td>Male</td>\n",
       "      <td>13</td>\n",
       "      <td>0</td>\n",
       "    </tr>\n",
       "    <tr>\n",
       "      <th>2</th>\n",
       "      <td>38</td>\n",
       "      <td>Private</td>\n",
       "      <td>9</td>\n",
       "      <td>CurrentlySingle</td>\n",
       "      <td>BlueCollar</td>\n",
       "      <td>Male</td>\n",
       "      <td>40</td>\n",
       "      <td>0</td>\n",
       "    </tr>\n",
       "    <tr>\n",
       "      <th>3</th>\n",
       "      <td>53</td>\n",
       "      <td>Private</td>\n",
       "      <td>7</td>\n",
       "      <td>Married</td>\n",
       "      <td>BlueCollar</td>\n",
       "      <td>Male</td>\n",
       "      <td>40</td>\n",
       "      <td>0</td>\n",
       "    </tr>\n",
       "    <tr>\n",
       "      <th>4</th>\n",
       "      <td>28</td>\n",
       "      <td>Private</td>\n",
       "      <td>13</td>\n",
       "      <td>Married</td>\n",
       "      <td>Service</td>\n",
       "      <td>Female</td>\n",
       "      <td>40</td>\n",
       "      <td>0</td>\n",
       "    </tr>\n",
       "  </tbody>\n",
       "</table>\n",
       "</div>"
      ],
      "text/plain": [
       "   age   workclass  education   marritalstatus   occupation     sex  \\\n",
       "0   39  Government         13  CurrentlySingle  WhiteCollar    Male   \n",
       "1   50      Others         13          Married  WhiteCollar    Male   \n",
       "2   38     Private          9  CurrentlySingle   BlueCollar    Male   \n",
       "3   53     Private          7          Married   BlueCollar    Male   \n",
       "4   28     Private         13          Married      Service  Female   \n",
       "\n",
       "   working_hours_per_week  salary  \n",
       "0                      40       0  \n",
       "1                      13       0  \n",
       "2                      40       0  \n",
       "3                      40       0  \n",
       "4                      40       0  "
      ]
     },
     "execution_count": 34,
     "metadata": {},
     "output_type": "execute_result"
    }
   ],
   "source": [
    "## Applying the created Label Encoder object for the target class\n",
    "## Assigning the 0 to <=50k and 1 to >50k\n",
    "\n",
    "adult_data['salary'] = LE.fit_transform(adult_data['salary'])\n",
    "adult_data.head()"
   ]
  },
  {
   "cell_type": "code",
   "execution_count": 35,
   "metadata": {
    "ExecuteTime": {
     "end_time": "2020-08-20T07:16:02.722242Z",
     "start_time": "2020-08-20T07:16:02.557212Z"
    }
   },
   "outputs": [
    {
     "name": "stdout",
     "output_type": "stream",
     "text": [
      "<class 'pandas.core.frame.DataFrame'>\n",
      "Int64Index: 26697 entries, 0 to 32560\n",
      "Data columns (total 8 columns):\n",
      " #   Column                  Non-Null Count  Dtype \n",
      "---  ------                  --------------  ----- \n",
      " 0   age                     26697 non-null  int64 \n",
      " 1   workclass               26697 non-null  object\n",
      " 2   education               26697 non-null  int64 \n",
      " 3   marritalstatus          26697 non-null  object\n",
      " 4   occupation              26697 non-null  object\n",
      " 5   sex                     26697 non-null  object\n",
      " 6   working_hours_per_week  26697 non-null  int64 \n",
      " 7   salary                  26697 non-null  int32 \n",
      "dtypes: int32(1), int64(3), object(4)\n",
      "memory usage: 1.7+ MB\n"
     ]
    }
   ],
   "source": [
    "adult_data.info()"
   ]
  },
  {
   "cell_type": "code",
   "execution_count": 36,
   "metadata": {
    "ExecuteTime": {
     "end_time": "2020-08-20T07:16:02.910405Z",
     "start_time": "2020-08-20T07:16:02.723229Z"
    }
   },
   "outputs": [
    {
     "data": {
      "text/html": [
       "<div>\n",
       "<style scoped>\n",
       "    .dataframe tbody tr th:only-of-type {\n",
       "        vertical-align: middle;\n",
       "    }\n",
       "\n",
       "    .dataframe tbody tr th {\n",
       "        vertical-align: top;\n",
       "    }\n",
       "\n",
       "    .dataframe thead th {\n",
       "        text-align: right;\n",
       "    }\n",
       "</style>\n",
       "<table border=\"1\" class=\"dataframe\">\n",
       "  <thead>\n",
       "    <tr style=\"text-align: right;\">\n",
       "      <th></th>\n",
       "      <th>age</th>\n",
       "      <th>education</th>\n",
       "      <th>working_hours_per_week</th>\n",
       "      <th>salary</th>\n",
       "      <th>workclass_Others</th>\n",
       "      <th>workclass_Private</th>\n",
       "      <th>marritalstatus_Married</th>\n",
       "      <th>occupation_Sales</th>\n",
       "      <th>occupation_Service</th>\n",
       "      <th>occupation_Unknown_Others</th>\n",
       "      <th>occupation_WhiteCollar</th>\n",
       "      <th>sex_Male</th>\n",
       "    </tr>\n",
       "  </thead>\n",
       "  <tbody>\n",
       "    <tr>\n",
       "      <th>0</th>\n",
       "      <td>39</td>\n",
       "      <td>13</td>\n",
       "      <td>40</td>\n",
       "      <td>0</td>\n",
       "      <td>0</td>\n",
       "      <td>0</td>\n",
       "      <td>0</td>\n",
       "      <td>0</td>\n",
       "      <td>0</td>\n",
       "      <td>0</td>\n",
       "      <td>1</td>\n",
       "      <td>1</td>\n",
       "    </tr>\n",
       "    <tr>\n",
       "      <th>1</th>\n",
       "      <td>50</td>\n",
       "      <td>13</td>\n",
       "      <td>13</td>\n",
       "      <td>0</td>\n",
       "      <td>1</td>\n",
       "      <td>0</td>\n",
       "      <td>1</td>\n",
       "      <td>0</td>\n",
       "      <td>0</td>\n",
       "      <td>0</td>\n",
       "      <td>1</td>\n",
       "      <td>1</td>\n",
       "    </tr>\n",
       "    <tr>\n",
       "      <th>2</th>\n",
       "      <td>38</td>\n",
       "      <td>9</td>\n",
       "      <td>40</td>\n",
       "      <td>0</td>\n",
       "      <td>0</td>\n",
       "      <td>1</td>\n",
       "      <td>0</td>\n",
       "      <td>0</td>\n",
       "      <td>0</td>\n",
       "      <td>0</td>\n",
       "      <td>0</td>\n",
       "      <td>1</td>\n",
       "    </tr>\n",
       "    <tr>\n",
       "      <th>3</th>\n",
       "      <td>53</td>\n",
       "      <td>7</td>\n",
       "      <td>40</td>\n",
       "      <td>0</td>\n",
       "      <td>0</td>\n",
       "      <td>1</td>\n",
       "      <td>1</td>\n",
       "      <td>0</td>\n",
       "      <td>0</td>\n",
       "      <td>0</td>\n",
       "      <td>0</td>\n",
       "      <td>1</td>\n",
       "    </tr>\n",
       "    <tr>\n",
       "      <th>4</th>\n",
       "      <td>28</td>\n",
       "      <td>13</td>\n",
       "      <td>40</td>\n",
       "      <td>0</td>\n",
       "      <td>0</td>\n",
       "      <td>1</td>\n",
       "      <td>1</td>\n",
       "      <td>0</td>\n",
       "      <td>1</td>\n",
       "      <td>0</td>\n",
       "      <td>0</td>\n",
       "      <td>0</td>\n",
       "    </tr>\n",
       "  </tbody>\n",
       "</table>\n",
       "</div>"
      ],
      "text/plain": [
       "   age  education  working_hours_per_week  salary  workclass_Others  \\\n",
       "0   39         13                      40       0                 0   \n",
       "1   50         13                      13       0                 1   \n",
       "2   38          9                      40       0                 0   \n",
       "3   53          7                      40       0                 0   \n",
       "4   28         13                      40       0                 0   \n",
       "\n",
       "   workclass_Private  marritalstatus_Married  occupation_Sales  \\\n",
       "0                  0                       0                 0   \n",
       "1                  0                       1                 0   \n",
       "2                  1                       0                 0   \n",
       "3                  1                       1                 0   \n",
       "4                  1                       1                 0   \n",
       "\n",
       "   occupation_Service  occupation_Unknown_Others  occupation_WhiteCollar  \\\n",
       "0                   0                          0                       1   \n",
       "1                   0                          0                       1   \n",
       "2                   0                          0                       0   \n",
       "3                   0                          0                       0   \n",
       "4                   1                          0                       0   \n",
       "\n",
       "   sex_Male  \n",
       "0         1  \n",
       "1         1  \n",
       "2         1  \n",
       "3         1  \n",
       "4         0  "
      ]
     },
     "execution_count": 36,
     "metadata": {},
     "output_type": "execute_result"
    }
   ],
   "source": [
    "## Converting the other 'object' type variables as dummy variables\n",
    "adult_data_dummy = pd.get_dummies(adult_data,drop_first=True)\n",
    "adult_data_dummy.head()"
   ]
  },
  {
   "cell_type": "code",
   "execution_count": 37,
   "metadata": {
    "ExecuteTime": {
     "end_time": "2020-08-20T07:16:03.079949Z",
     "start_time": "2020-08-20T07:16:02.911403Z"
    }
   },
   "outputs": [
    {
     "name": "stdout",
     "output_type": "stream",
     "text": [
      "<class 'pandas.core.frame.DataFrame'>\n",
      "Int64Index: 26697 entries, 0 to 32560\n",
      "Data columns (total 12 columns):\n",
      " #   Column                     Non-Null Count  Dtype\n",
      "---  ------                     --------------  -----\n",
      " 0   age                        26697 non-null  int64\n",
      " 1   education                  26697 non-null  int64\n",
      " 2   working_hours_per_week     26697 non-null  int64\n",
      " 3   salary                     26697 non-null  int32\n",
      " 4   workclass_Others           26697 non-null  uint8\n",
      " 5   workclass_Private          26697 non-null  uint8\n",
      " 6   marritalstatus_Married     26697 non-null  uint8\n",
      " 7   occupation_Sales           26697 non-null  uint8\n",
      " 8   occupation_Service         26697 non-null  uint8\n",
      " 9   occupation_Unknown_Others  26697 non-null  uint8\n",
      " 10  occupation_WhiteCollar     26697 non-null  uint8\n",
      " 11  sex_Male                   26697 non-null  uint8\n",
      "dtypes: int32(1), int64(3), uint8(8)\n",
      "memory usage: 1.1 MB\n"
     ]
    }
   ],
   "source": [
    "adult_data_dummy.info()"
   ]
  },
  {
   "cell_type": "markdown",
   "metadata": {},
   "source": [
    "# Q1. Model 1 - Build the Logistic Regression Model using all the variables on the full data and check the summary statistics of the model. - 1 point."
   ]
  },
  {
   "cell_type": "code",
   "execution_count": 38,
   "metadata": {
    "ExecuteTime": {
     "end_time": "2020-08-20T07:16:03.304348Z",
     "start_time": "2020-08-20T07:16:03.080946Z"
    }
   },
   "outputs": [],
   "source": [
    "import statsmodels.formula.api as sm"
   ]
  },
  {
   "cell_type": "code",
   "execution_count": 39,
   "metadata": {
    "ExecuteTime": {
     "end_time": "2020-08-20T07:16:03.421743Z",
     "start_time": "2020-08-20T07:16:03.306344Z"
    }
   },
   "outputs": [
    {
     "data": {
      "text/plain": [
       "Index(['age', 'education', 'working_hours_per_week', 'salary',\n",
       "       'workclass_Others', 'workclass_Private', 'marritalstatus_Married',\n",
       "       'occupation_Sales', 'occupation_Service', 'occupation_Unknown_Others',\n",
       "       'occupation_WhiteCollar', 'sex_Male'],\n",
       "      dtype='object')"
      ]
     },
     "execution_count": 39,
     "metadata": {},
     "output_type": "execute_result"
    }
   ],
   "source": [
    "adult_data_dummy.columns"
   ]
  },
  {
   "cell_type": "code",
   "execution_count": 40,
   "metadata": {
    "ExecuteTime": {
     "end_time": "2020-08-20T07:16:03.547455Z",
     "start_time": "2020-08-20T07:16:03.424734Z"
    }
   },
   "outputs": [],
   "source": [
    "formula_1='salary~age+education+working_hours_per_week+workclass_Others+workclass_Private+marritalstatus_Married+occupation_Sales+occupation_Service+occupation_Unknown_Others+occupation_WhiteCollar+sex_Male'"
   ]
  },
  {
   "cell_type": "code",
   "execution_count": 41,
   "metadata": {
    "ExecuteTime": {
     "end_time": "2020-08-20T07:16:03.759919Z",
     "start_time": "2020-08-20T07:16:03.550449Z"
    }
   },
   "outputs": [
    {
     "name": "stdout",
     "output_type": "stream",
     "text": [
      "Optimization terminated successfully.\n",
      "         Current function value: 0.414212\n",
      "         Iterations 7\n"
     ]
    }
   ],
   "source": [
    "Logistic_1 = sm.logit(formula=formula_1,data=adult_data_dummy).fit()"
   ]
  },
  {
   "cell_type": "code",
   "execution_count": 42,
   "metadata": {
    "ExecuteTime": {
     "end_time": "2020-08-20T07:16:03.865639Z",
     "start_time": "2020-08-20T07:16:03.760918Z"
    }
   },
   "outputs": [
    {
     "data": {
      "text/html": [
       "<table class=\"simpletable\">\n",
       "<caption>Logit Regression Results</caption>\n",
       "<tr>\n",
       "  <th>Dep. Variable:</th>        <td>salary</td>      <th>  No. Observations:  </th>  <td> 26697</td> \n",
       "</tr>\n",
       "<tr>\n",
       "  <th>Model:</th>                 <td>Logit</td>      <th>  Df Residuals:      </th>  <td> 26685</td> \n",
       "</tr>\n",
       "<tr>\n",
       "  <th>Method:</th>                 <td>MLE</td>       <th>  Df Model:          </th>  <td>    11</td> \n",
       "</tr>\n",
       "<tr>\n",
       "  <th>Date:</th>            <td>Sat, 29 Aug 2020</td> <th>  Pseudo R-squ.:     </th>  <td>0.2812</td> \n",
       "</tr>\n",
       "<tr>\n",
       "  <th>Time:</th>                <td>16:51:29</td>     <th>  Log-Likelihood:    </th> <td> -11058.</td>\n",
       "</tr>\n",
       "<tr>\n",
       "  <th>converged:</th>             <td>True</td>       <th>  LL-Null:           </th> <td> -15385.</td>\n",
       "</tr>\n",
       "<tr>\n",
       "  <th>Covariance Type:</th>     <td>nonrobust</td>    <th>  LLR p-value:       </th>  <td> 0.000</td> \n",
       "</tr>\n",
       "</table>\n",
       "<table class=\"simpletable\">\n",
       "<tr>\n",
       "              <td></td>                 <th>coef</th>     <th>std err</th>      <th>z</th>      <th>P>|z|</th>  <th>[0.025</th>    <th>0.975]</th>  \n",
       "</tr>\n",
       "<tr>\n",
       "  <th>Intercept</th>                 <td>   -8.4738</td> <td>    0.142</td> <td>  -59.616</td> <td> 0.000</td> <td>   -8.752</td> <td>   -8.195</td>\n",
       "</tr>\n",
       "<tr>\n",
       "  <th>age</th>                       <td>    0.0285</td> <td>    0.001</td> <td>   20.352</td> <td> 0.000</td> <td>    0.026</td> <td>    0.031</td>\n",
       "</tr>\n",
       "<tr>\n",
       "  <th>education</th>                 <td>    0.2561</td> <td>    0.008</td> <td>   33.473</td> <td> 0.000</td> <td>    0.241</td> <td>    0.271</td>\n",
       "</tr>\n",
       "<tr>\n",
       "  <th>working_hours_per_week</th>    <td>    0.0321</td> <td>    0.001</td> <td>   22.749</td> <td> 0.000</td> <td>    0.029</td> <td>    0.035</td>\n",
       "</tr>\n",
       "<tr>\n",
       "  <th>workclass_Others</th>          <td>   -0.0352</td> <td>    0.060</td> <td>   -0.586</td> <td> 0.558</td> <td>   -0.153</td> <td>    0.083</td>\n",
       "</tr>\n",
       "<tr>\n",
       "  <th>workclass_Private</th>         <td>    0.0870</td> <td>    0.047</td> <td>    1.841</td> <td> 0.066</td> <td>   -0.006</td> <td>    0.180</td>\n",
       "</tr>\n",
       "<tr>\n",
       "  <th>marritalstatus_Married</th>    <td>    2.0895</td> <td>    0.042</td> <td>   49.888</td> <td> 0.000</td> <td>    2.007</td> <td>    2.172</td>\n",
       "</tr>\n",
       "<tr>\n",
       "  <th>occupation_Sales</th>          <td>    0.4917</td> <td>    0.059</td> <td>    8.289</td> <td> 0.000</td> <td>    0.375</td> <td>    0.608</td>\n",
       "</tr>\n",
       "<tr>\n",
       "  <th>occupation_Service</th>        <td>    0.7207</td> <td>    0.048</td> <td>   14.896</td> <td> 0.000</td> <td>    0.626</td> <td>    0.816</td>\n",
       "</tr>\n",
       "<tr>\n",
       "  <th>occupation_Unknown_Others</th> <td>   -0.1461</td> <td>    0.104</td> <td>   -1.404</td> <td> 0.160</td> <td>   -0.350</td> <td>    0.058</td>\n",
       "</tr>\n",
       "<tr>\n",
       "  <th>occupation_WhiteCollar</th>    <td>    0.8179</td> <td>    0.049</td> <td>   16.684</td> <td> 0.000</td> <td>    0.722</td> <td>    0.914</td>\n",
       "</tr>\n",
       "<tr>\n",
       "  <th>sex_Male</th>                  <td>    0.3943</td> <td>    0.045</td> <td>    8.744</td> <td> 0.000</td> <td>    0.306</td> <td>    0.483</td>\n",
       "</tr>\n",
       "</table>"
      ],
      "text/plain": [
       "<class 'statsmodels.iolib.summary.Summary'>\n",
       "\"\"\"\n",
       "                           Logit Regression Results                           \n",
       "==============================================================================\n",
       "Dep. Variable:                 salary   No. Observations:                26697\n",
       "Model:                          Logit   Df Residuals:                    26685\n",
       "Method:                           MLE   Df Model:                           11\n",
       "Date:                Sat, 29 Aug 2020   Pseudo R-squ.:                  0.2812\n",
       "Time:                        16:51:29   Log-Likelihood:                -11058.\n",
       "converged:                       True   LL-Null:                       -15385.\n",
       "Covariance Type:            nonrobust   LLR p-value:                     0.000\n",
       "=============================================================================================\n",
       "                                coef    std err          z      P>|z|      [0.025      0.975]\n",
       "---------------------------------------------------------------------------------------------\n",
       "Intercept                    -8.4738      0.142    -59.616      0.000      -8.752      -8.195\n",
       "age                           0.0285      0.001     20.352      0.000       0.026       0.031\n",
       "education                     0.2561      0.008     33.473      0.000       0.241       0.271\n",
       "working_hours_per_week        0.0321      0.001     22.749      0.000       0.029       0.035\n",
       "workclass_Others             -0.0352      0.060     -0.586      0.558      -0.153       0.083\n",
       "workclass_Private             0.0870      0.047      1.841      0.066      -0.006       0.180\n",
       "marritalstatus_Married        2.0895      0.042     49.888      0.000       2.007       2.172\n",
       "occupation_Sales              0.4917      0.059      8.289      0.000       0.375       0.608\n",
       "occupation_Service            0.7207      0.048     14.896      0.000       0.626       0.816\n",
       "occupation_Unknown_Others    -0.1461      0.104     -1.404      0.160      -0.350       0.058\n",
       "occupation_WhiteCollar        0.8179      0.049     16.684      0.000       0.722       0.914\n",
       "sex_Male                      0.3943      0.045      8.744      0.000       0.306       0.483\n",
       "=============================================================================================\n",
       "\"\"\""
      ]
     },
     "execution_count": 42,
     "metadata": {},
     "output_type": "execute_result"
    }
   ],
   "source": [
    "Logistic_1.summary()"
   ]
  },
  {
   "cell_type": "code",
   "execution_count": 2,
   "metadata": {},
   "outputs": [
    {
     "data": {
      "text/plain": [
       "0.28124796880077996"
      ]
     },
     "execution_count": 2,
     "metadata": {},
     "output_type": "execute_result"
    }
   ],
   "source": [
    "1 - (11058/15385)"
   ]
  },
  {
   "cell_type": "markdown",
   "metadata": {},
   "source": [
    "# Q2. Model 2 - Drop the variable with the highest p-value (least significant variable) in the first iteration of the model. Build a second iteration of the model on the full data and check the summary statistics. - 1 point"
   ]
  },
  {
   "cell_type": "code",
   "execution_count": 43,
   "metadata": {
    "ExecuteTime": {
     "end_time": "2020-08-20T07:16:03.903536Z",
     "start_time": "2020-08-20T07:16:03.867631Z"
    }
   },
   "outputs": [],
   "source": [
    "formula_2='salary~age+education+working_hours_per_week+workclass_Private+marritalstatus_Married+occupation_Sales+occupation_Service+occupation_Unknown_Others+occupation_WhiteCollar+sex_Male'"
   ]
  },
  {
   "cell_type": "code",
   "execution_count": 44,
   "metadata": {
    "ExecuteTime": {
     "end_time": "2020-08-20T07:16:04.150508Z",
     "start_time": "2020-08-20T07:16:03.904535Z"
    }
   },
   "outputs": [
    {
     "name": "stdout",
     "output_type": "stream",
     "text": [
      "Optimization terminated successfully.\n",
      "         Current function value: 0.414219\n",
      "         Iterations 7\n"
     ]
    }
   ],
   "source": [
    "Logistic_2 = sm.logit(formula=formula_2,data=adult_data_dummy).fit()"
   ]
  },
  {
   "cell_type": "code",
   "execution_count": 45,
   "metadata": {
    "ExecuteTime": {
     "end_time": "2020-08-20T07:16:04.265189Z",
     "start_time": "2020-08-20T07:16:04.152504Z"
    }
   },
   "outputs": [
    {
     "data": {
      "text/html": [
       "<table class=\"simpletable\">\n",
       "<caption>Logit Regression Results</caption>\n",
       "<tr>\n",
       "  <th>Dep. Variable:</th>        <td>salary</td>      <th>  No. Observations:  </th>  <td> 26697</td> \n",
       "</tr>\n",
       "<tr>\n",
       "  <th>Model:</th>                 <td>Logit</td>      <th>  Df Residuals:      </th>  <td> 26686</td> \n",
       "</tr>\n",
       "<tr>\n",
       "  <th>Method:</th>                 <td>MLE</td>       <th>  Df Model:          </th>  <td>    10</td> \n",
       "</tr>\n",
       "<tr>\n",
       "  <th>Date:</th>            <td>Sat, 29 Aug 2020</td> <th>  Pseudo R-squ.:     </th>  <td>0.2812</td> \n",
       "</tr>\n",
       "<tr>\n",
       "  <th>Time:</th>                <td>16:51:29</td>     <th>  Log-Likelihood:    </th> <td> -11058.</td>\n",
       "</tr>\n",
       "<tr>\n",
       "  <th>converged:</th>             <td>True</td>       <th>  LL-Null:           </th> <td> -15385.</td>\n",
       "</tr>\n",
       "<tr>\n",
       "  <th>Covariance Type:</th>     <td>nonrobust</td>    <th>  LLR p-value:       </th>  <td> 0.000</td> \n",
       "</tr>\n",
       "</table>\n",
       "<table class=\"simpletable\">\n",
       "<tr>\n",
       "              <td></td>                 <th>coef</th>     <th>std err</th>      <th>z</th>      <th>P>|z|</th>  <th>[0.025</th>    <th>0.975]</th>  \n",
       "</tr>\n",
       "<tr>\n",
       "  <th>Intercept</th>                 <td>   -8.4877</td> <td>    0.140</td> <td>  -60.544</td> <td> 0.000</td> <td>   -8.762</td> <td>   -8.213</td>\n",
       "</tr>\n",
       "<tr>\n",
       "  <th>age</th>                       <td>    0.0284</td> <td>    0.001</td> <td>   20.370</td> <td> 0.000</td> <td>    0.026</td> <td>    0.031</td>\n",
       "</tr>\n",
       "<tr>\n",
       "  <th>education</th>                 <td>    0.2563</td> <td>    0.008</td> <td>   33.567</td> <td> 0.000</td> <td>    0.241</td> <td>    0.271</td>\n",
       "</tr>\n",
       "<tr>\n",
       "  <th>working_hours_per_week</th>    <td>    0.0320</td> <td>    0.001</td> <td>   22.828</td> <td> 0.000</td> <td>    0.029</td> <td>    0.035</td>\n",
       "</tr>\n",
       "<tr>\n",
       "  <th>workclass_Private</th>         <td>    0.1045</td> <td>    0.037</td> <td>    2.853</td> <td> 0.004</td> <td>    0.033</td> <td>    0.176</td>\n",
       "</tr>\n",
       "<tr>\n",
       "  <th>marritalstatus_Married</th>    <td>    2.0886</td> <td>    0.042</td> <td>   49.902</td> <td> 0.000</td> <td>    2.007</td> <td>    2.171</td>\n",
       "</tr>\n",
       "<tr>\n",
       "  <th>occupation_Sales</th>          <td>    0.4886</td> <td>    0.059</td> <td>    8.269</td> <td> 0.000</td> <td>    0.373</td> <td>    0.604</td>\n",
       "</tr>\n",
       "<tr>\n",
       "  <th>occupation_Service</th>        <td>    0.7249</td> <td>    0.048</td> <td>   15.154</td> <td> 0.000</td> <td>    0.631</td> <td>    0.819</td>\n",
       "</tr>\n",
       "<tr>\n",
       "  <th>occupation_Unknown_Others</th> <td>   -0.1622</td> <td>    0.100</td> <td>   -1.616</td> <td> 0.106</td> <td>   -0.359</td> <td>    0.035</td>\n",
       "</tr>\n",
       "<tr>\n",
       "  <th>occupation_WhiteCollar</th>    <td>    0.8198</td> <td>    0.049</td> <td>   16.756</td> <td> 0.000</td> <td>    0.724</td> <td>    0.916</td>\n",
       "</tr>\n",
       "<tr>\n",
       "  <th>sex_Male</th>                  <td>    0.3934</td> <td>    0.045</td> <td>    8.730</td> <td> 0.000</td> <td>    0.305</td> <td>    0.482</td>\n",
       "</tr>\n",
       "</table>"
      ],
      "text/plain": [
       "<class 'statsmodels.iolib.summary.Summary'>\n",
       "\"\"\"\n",
       "                           Logit Regression Results                           \n",
       "==============================================================================\n",
       "Dep. Variable:                 salary   No. Observations:                26697\n",
       "Model:                          Logit   Df Residuals:                    26686\n",
       "Method:                           MLE   Df Model:                           10\n",
       "Date:                Sat, 29 Aug 2020   Pseudo R-squ.:                  0.2812\n",
       "Time:                        16:51:29   Log-Likelihood:                -11058.\n",
       "converged:                       True   LL-Null:                       -15385.\n",
       "Covariance Type:            nonrobust   LLR p-value:                     0.000\n",
       "=============================================================================================\n",
       "                                coef    std err          z      P>|z|      [0.025      0.975]\n",
       "---------------------------------------------------------------------------------------------\n",
       "Intercept                    -8.4877      0.140    -60.544      0.000      -8.762      -8.213\n",
       "age                           0.0284      0.001     20.370      0.000       0.026       0.031\n",
       "education                     0.2563      0.008     33.567      0.000       0.241       0.271\n",
       "working_hours_per_week        0.0320      0.001     22.828      0.000       0.029       0.035\n",
       "workclass_Private             0.1045      0.037      2.853      0.004       0.033       0.176\n",
       "marritalstatus_Married        2.0886      0.042     49.902      0.000       2.007       2.171\n",
       "occupation_Sales              0.4886      0.059      8.269      0.000       0.373       0.604\n",
       "occupation_Service            0.7249      0.048     15.154      0.000       0.631       0.819\n",
       "occupation_Unknown_Others    -0.1622      0.100     -1.616      0.106      -0.359       0.035\n",
       "occupation_WhiteCollar        0.8198      0.049     16.756      0.000       0.724       0.916\n",
       "sex_Male                      0.3934      0.045      8.730      0.000       0.305       0.482\n",
       "=============================================================================================\n",
       "\"\"\""
      ]
     },
     "execution_count": 45,
     "metadata": {},
     "output_type": "execute_result"
    }
   ],
   "source": [
    "Logistic_2.summary()"
   ]
  },
  {
   "cell_type": "markdown",
   "metadata": {},
   "source": [
    "# Q3. Model 3 - Drop the variable which has the highest p-value (least significant variable) in the second iteration of the model. Build a third iteration of the model on the full data and check the summary statistics. - 1 point"
   ]
  },
  {
   "cell_type": "code",
   "execution_count": 46,
   "metadata": {
    "ExecuteTime": {
     "end_time": "2020-08-20T07:16:04.341956Z",
     "start_time": "2020-08-20T07:16:04.266155Z"
    }
   },
   "outputs": [],
   "source": [
    "formula_3='salary~age+education+working_hours_per_week+workclass_Private+marritalstatus_Married+occupation_Sales+occupation_Service+occupation_WhiteCollar+sex_Male'"
   ]
  },
  {
   "cell_type": "code",
   "execution_count": 47,
   "metadata": {
    "ExecuteTime": {
     "end_time": "2020-08-20T07:16:04.610491Z",
     "start_time": "2020-08-20T07:16:04.343949Z"
    }
   },
   "outputs": [
    {
     "name": "stdout",
     "output_type": "stream",
     "text": [
      "Optimization terminated successfully.\n",
      "         Current function value: 0.414268\n",
      "         Iterations 7\n"
     ]
    }
   ],
   "source": [
    "Logistic_3 = sm.logit(formula=formula_3,data=adult_data_dummy).fit()"
   ]
  },
  {
   "cell_type": "code",
   "execution_count": 48,
   "metadata": {
    "ExecuteTime": {
     "end_time": "2020-08-20T07:16:04.734123Z",
     "start_time": "2020-08-20T07:16:04.611489Z"
    }
   },
   "outputs": [
    {
     "data": {
      "text/html": [
       "<table class=\"simpletable\">\n",
       "<caption>Logit Regression Results</caption>\n",
       "<tr>\n",
       "  <th>Dep. Variable:</th>        <td>salary</td>      <th>  No. Observations:  </th>  <td> 26697</td> \n",
       "</tr>\n",
       "<tr>\n",
       "  <th>Model:</th>                 <td>Logit</td>      <th>  Df Residuals:      </th>  <td> 26687</td> \n",
       "</tr>\n",
       "<tr>\n",
       "  <th>Method:</th>                 <td>MLE</td>       <th>  Df Model:          </th>  <td>     9</td> \n",
       "</tr>\n",
       "<tr>\n",
       "  <th>Date:</th>            <td>Sat, 29 Aug 2020</td> <th>  Pseudo R-squ.:     </th>  <td>0.2811</td> \n",
       "</tr>\n",
       "<tr>\n",
       "  <th>Time:</th>                <td>16:51:30</td>     <th>  Log-Likelihood:    </th> <td> -11060.</td>\n",
       "</tr>\n",
       "<tr>\n",
       "  <th>converged:</th>             <td>True</td>       <th>  LL-Null:           </th> <td> -15385.</td>\n",
       "</tr>\n",
       "<tr>\n",
       "  <th>Covariance Type:</th>     <td>nonrobust</td>    <th>  LLR p-value:       </th>  <td> 0.000</td> \n",
       "</tr>\n",
       "</table>\n",
       "<table class=\"simpletable\">\n",
       "<tr>\n",
       "             <td></td>               <th>coef</th>     <th>std err</th>      <th>z</th>      <th>P>|z|</th>  <th>[0.025</th>    <th>0.975]</th>  \n",
       "</tr>\n",
       "<tr>\n",
       "  <th>Intercept</th>              <td>   -8.5208</td> <td>    0.139</td> <td>  -61.432</td> <td> 0.000</td> <td>   -8.793</td> <td>   -8.249</td>\n",
       "</tr>\n",
       "<tr>\n",
       "  <th>age</th>                    <td>    0.0282</td> <td>    0.001</td> <td>   20.332</td> <td> 0.000</td> <td>    0.025</td> <td>    0.031</td>\n",
       "</tr>\n",
       "<tr>\n",
       "  <th>education</th>              <td>    0.2557</td> <td>    0.008</td> <td>   33.550</td> <td> 0.000</td> <td>    0.241</td> <td>    0.271</td>\n",
       "</tr>\n",
       "<tr>\n",
       "  <th>working_hours_per_week</th> <td>    0.0323</td> <td>    0.001</td> <td>   23.327</td> <td> 0.000</td> <td>    0.030</td> <td>    0.035</td>\n",
       "</tr>\n",
       "<tr>\n",
       "  <th>workclass_Private</th>      <td>    0.1193</td> <td>    0.035</td> <td>    3.363</td> <td> 0.001</td> <td>    0.050</td> <td>    0.189</td>\n",
       "</tr>\n",
       "<tr>\n",
       "  <th>marritalstatus_Married</th> <td>    2.0898</td> <td>    0.042</td> <td>   49.951</td> <td> 0.000</td> <td>    2.008</td> <td>    2.172</td>\n",
       "</tr>\n",
       "<tr>\n",
       "  <th>occupation_Sales</th>       <td>    0.5078</td> <td>    0.058</td> <td>    8.766</td> <td> 0.000</td> <td>    0.394</td> <td>    0.621</td>\n",
       "</tr>\n",
       "<tr>\n",
       "  <th>occupation_Service</th>     <td>    0.7480</td> <td>    0.046</td> <td>   16.360</td> <td> 0.000</td> <td>    0.658</td> <td>    0.838</td>\n",
       "</tr>\n",
       "<tr>\n",
       "  <th>occupation_WhiteCollar</th> <td>    0.8421</td> <td>    0.047</td> <td>   17.918</td> <td> 0.000</td> <td>    0.750</td> <td>    0.934</td>\n",
       "</tr>\n",
       "<tr>\n",
       "  <th>sex_Male</th>               <td>    0.3990</td> <td>    0.045</td> <td>    8.891</td> <td> 0.000</td> <td>    0.311</td> <td>    0.487</td>\n",
       "</tr>\n",
       "</table>"
      ],
      "text/plain": [
       "<class 'statsmodels.iolib.summary.Summary'>\n",
       "\"\"\"\n",
       "                           Logit Regression Results                           \n",
       "==============================================================================\n",
       "Dep. Variable:                 salary   No. Observations:                26697\n",
       "Model:                          Logit   Df Residuals:                    26687\n",
       "Method:                           MLE   Df Model:                            9\n",
       "Date:                Sat, 29 Aug 2020   Pseudo R-squ.:                  0.2811\n",
       "Time:                        16:51:30   Log-Likelihood:                -11060.\n",
       "converged:                       True   LL-Null:                       -15385.\n",
       "Covariance Type:            nonrobust   LLR p-value:                     0.000\n",
       "==========================================================================================\n",
       "                             coef    std err          z      P>|z|      [0.025      0.975]\n",
       "------------------------------------------------------------------------------------------\n",
       "Intercept                 -8.5208      0.139    -61.432      0.000      -8.793      -8.249\n",
       "age                        0.0282      0.001     20.332      0.000       0.025       0.031\n",
       "education                  0.2557      0.008     33.550      0.000       0.241       0.271\n",
       "working_hours_per_week     0.0323      0.001     23.327      0.000       0.030       0.035\n",
       "workclass_Private          0.1193      0.035      3.363      0.001       0.050       0.189\n",
       "marritalstatus_Married     2.0898      0.042     49.951      0.000       2.008       2.172\n",
       "occupation_Sales           0.5078      0.058      8.766      0.000       0.394       0.621\n",
       "occupation_Service         0.7480      0.046     16.360      0.000       0.658       0.838\n",
       "occupation_WhiteCollar     0.8421      0.047     17.918      0.000       0.750       0.934\n",
       "sex_Male                   0.3990      0.045      8.891      0.000       0.311       0.487\n",
       "==========================================================================================\n",
       "\"\"\""
      ]
     },
     "execution_count": 48,
     "metadata": {},
     "output_type": "execute_result"
    }
   ],
   "source": [
    "Logistic_3.summary()"
   ]
  },
  {
   "cell_type": "markdown",
   "metadata": {},
   "source": [
    "# Q4. Split the data into training (70%) and test (30%) in such a way that the uniformity in the training as well as test set is maintained every time the code is run. Check the whether the proportion of the different classes within the target variable is same across train and test. - 0.5 point"
   ]
  },
  {
   "cell_type": "code",
   "execution_count": 49,
   "metadata": {
    "ExecuteTime": {
     "end_time": "2020-08-20T07:16:04.795997Z",
     "start_time": "2020-08-20T07:16:04.736120Z"
    }
   },
   "outputs": [],
   "source": [
    "from sklearn.model_selection import train_test_split"
   ]
  },
  {
   "cell_type": "code",
   "execution_count": 50,
   "metadata": {
    "ExecuteTime": {
     "end_time": "2020-08-20T07:16:04.897855Z",
     "start_time": "2020-08-20T07:16:04.796954Z"
    }
   },
   "outputs": [],
   "source": [
    "Train,Test = train_test_split(adult_data_dummy,test_size=0.3,random_state=123,stratify=adult_data_dummy['salary'])"
   ]
  },
  {
   "cell_type": "code",
   "execution_count": 51,
   "metadata": {
    "ExecuteTime": {
     "end_time": "2020-08-20T07:16:05.013594Z",
     "start_time": "2020-08-20T07:16:04.899883Z"
    }
   },
   "outputs": [
    {
     "data": {
      "text/plain": [
       "(18687, 12)"
      ]
     },
     "execution_count": 51,
     "metadata": {},
     "output_type": "execute_result"
    }
   ],
   "source": [
    "Train.shape"
   ]
  },
  {
   "cell_type": "code",
   "execution_count": 52,
   "metadata": {
    "ExecuteTime": {
     "end_time": "2020-08-20T07:16:05.113307Z",
     "start_time": "2020-08-20T07:16:05.015541Z"
    }
   },
   "outputs": [
    {
     "data": {
      "text/plain": [
       "(8010, 12)"
      ]
     },
     "execution_count": 52,
     "metadata": {},
     "output_type": "execute_result"
    }
   ],
   "source": [
    "Test.shape"
   ]
  },
  {
   "cell_type": "code",
   "execution_count": 53,
   "metadata": {
    "ExecuteTime": {
     "end_time": "2020-08-20T07:16:05.249313Z",
     "start_time": "2020-08-20T07:16:05.114274Z"
    }
   },
   "outputs": [
    {
     "data": {
      "text/plain": [
       "0    0.736876\n",
       "1    0.263124\n",
       "Name: salary, dtype: float64"
      ]
     },
     "execution_count": 53,
     "metadata": {},
     "output_type": "execute_result"
    }
   ],
   "source": [
    "Train['salary'].value_counts(1)"
   ]
  },
  {
   "cell_type": "code",
   "execution_count": 54,
   "metadata": {
    "ExecuteTime": {
     "end_time": "2020-08-20T07:16:05.368194Z",
     "start_time": "2020-08-20T07:16:05.251309Z"
    }
   },
   "outputs": [
    {
     "data": {
      "text/plain": [
       "0    0.736954\n",
       "1    0.263046\n",
       "Name: salary, dtype: float64"
      ]
     },
     "execution_count": 54,
     "metadata": {},
     "output_type": "execute_result"
    }
   ],
   "source": [
    "Test['salary'].value_counts(1)"
   ]
  },
  {
   "cell_type": "markdown",
   "metadata": {},
   "source": [
    "# Q5. Build the models 1,2 and 3 on the training data, check the accuracy score of each of the models on the training data and use those models to predict the classes and the corresponding probabilities on the test data. Use 0.5 as the probability cut-off for predicting the classes - 1.5 points (0.5 point for each  model building and prediction)\n",
    "###### Note: The students can choose to use 'statsmodels' to perform the corresponding codes as well."
   ]
  },
  {
   "cell_type": "code",
   "execution_count": 55,
   "metadata": {
    "ExecuteTime": {
     "end_time": "2020-08-20T07:16:06.467544Z",
     "start_time": "2020-08-20T07:16:05.369191Z"
    }
   },
   "outputs": [],
   "source": [
    "from sklearn.linear_model import LogisticRegression"
   ]
  },
  {
   "cell_type": "code",
   "execution_count": 56,
   "metadata": {
    "ExecuteTime": {
     "end_time": "2020-08-20T07:16:06.564017Z",
     "start_time": "2020-08-20T07:16:06.468534Z"
    }
   },
   "outputs": [],
   "source": [
    "LR = LogisticRegression(solver='newton-cg',penalty='none')"
   ]
  },
  {
   "cell_type": "markdown",
   "metadata": {},
   "source": [
    "### Model 1 - Building the model on the Training Data and checking the Accuracy score on the training data."
   ]
  },
  {
   "cell_type": "code",
   "execution_count": 57,
   "metadata": {
    "ExecuteTime": {
     "end_time": "2020-08-20T07:16:07.008226Z",
     "start_time": "2020-08-20T07:16:06.565822Z"
    }
   },
   "outputs": [],
   "source": [
    "model_1 = LR.fit(Train[['age','education','working_hours_per_week','workclass_Others','workclass_Private','marritalstatus_Married','occupation_Sales','occupation_Service','occupation_Unknown_Others','occupation_WhiteCollar','sex_Male']],Train['salary'])"
   ]
  },
  {
   "cell_type": "code",
   "execution_count": null,
   "metadata": {},
   "outputs": [],
   "source": [
    "model_1."
   ]
  },
  {
   "cell_type": "code",
   "execution_count": 58,
   "metadata": {
    "ExecuteTime": {
     "end_time": "2020-08-20T07:16:07.021190Z",
     "start_time": "2020-08-20T07:16:07.010219Z"
    }
   },
   "outputs": [
    {
     "name": "stdout",
     "output_type": "stream",
     "text": [
      "Accuracy Score of Model 1: 0.7984695242682078\n"
     ]
    }
   ],
   "source": [
    "print('Accuracy Score of Model 1:',model_1.score(Train[['age','education','working_hours_per_week','workclass_Others','workclass_Private','marritalstatus_Married','occupation_Sales','occupation_Service','occupation_Unknown_Others','occupation_WhiteCollar','sex_Male']],Train['salary']))"
   ]
  },
  {
   "cell_type": "markdown",
   "metadata": {},
   "source": [
    "### Model 1 - Predicting the classes and the probabilities on the Test Data"
   ]
  },
  {
   "cell_type": "code",
   "execution_count": 59,
   "metadata": {
    "ExecuteTime": {
     "end_time": "2020-08-20T07:16:07.268962Z",
     "start_time": "2020-08-20T07:16:07.022188Z"
    }
   },
   "outputs": [],
   "source": [
    "model_1_test_class = model_1.predict(Test[['age','education','working_hours_per_week','workclass_Others','workclass_Private','marritalstatus_Married','occupation_Sales','occupation_Service','occupation_Unknown_Others','occupation_WhiteCollar','sex_Male']])\n",
    "model_1_test_probabilities = model_1.predict_proba(Test[['age','education','working_hours_per_week','workclass_Others','workclass_Private','marritalstatus_Married','occupation_Sales','occupation_Service','occupation_Unknown_Others','occupation_WhiteCollar','sex_Male']])"
   ]
  },
  {
   "cell_type": "code",
   "execution_count": 60,
   "metadata": {},
   "outputs": [
    {
     "data": {
      "text/plain": [
       "array([[0.51440425, 0.48559575],\n",
       "       [0.36013287, 0.63986713],\n",
       "       [0.92153197, 0.07846803],\n",
       "       ...,\n",
       "       [0.89935318, 0.10064682],\n",
       "       [0.93587896, 0.06412104],\n",
       "       [0.55139793, 0.44860207]])"
      ]
     },
     "execution_count": 60,
     "metadata": {},
     "output_type": "execute_result"
    }
   ],
   "source": [
    "model_1_test_probabilities"
   ]
  },
  {
   "cell_type": "markdown",
   "metadata": {},
   "source": [
    "### Model 2 - Building the model on the Training Data and checking the Accuracy score on the training data."
   ]
  },
  {
   "cell_type": "code",
   "execution_count": 61,
   "metadata": {
    "ExecuteTime": {
     "end_time": "2020-08-20T07:16:07.720438Z",
     "start_time": "2020-08-20T07:16:07.269959Z"
    }
   },
   "outputs": [],
   "source": [
    "model_2 = LR.fit(Train[['age','education','working_hours_per_week','workclass_Private','marritalstatus_Married','occupation_Sales','occupation_Service','occupation_Unknown_Others','occupation_WhiteCollar','sex_Male']],Train['salary'])"
   ]
  },
  {
   "cell_type": "code",
   "execution_count": 62,
   "metadata": {
    "ExecuteTime": {
     "end_time": "2020-08-20T07:16:07.733404Z",
     "start_time": "2020-08-20T07:16:07.721474Z"
    }
   },
   "outputs": [
    {
     "name": "stdout",
     "output_type": "stream",
     "text": [
      "Accuracy Score of Model 2: 0.7977203403435543\n"
     ]
    }
   ],
   "source": [
    "print('Accuracy Score of Model 2:',model_2.score(Train[['age','education','working_hours_per_week','workclass_Private','marritalstatus_Married','occupation_Sales','occupation_Service','occupation_Unknown_Others','occupation_WhiteCollar','sex_Male']],Train['salary']))"
   ]
  },
  {
   "cell_type": "markdown",
   "metadata": {},
   "source": [
    "### Model 2 - Predicting the classes and the probabilities on the Test Data"
   ]
  },
  {
   "cell_type": "code",
   "execution_count": 63,
   "metadata": {
    "ExecuteTime": {
     "end_time": "2020-08-20T07:16:07.831672Z",
     "start_time": "2020-08-20T07:16:07.735400Z"
    }
   },
   "outputs": [],
   "source": [
    "model_2_test_class = model_2.predict(Test[['age','education','working_hours_per_week','workclass_Private','marritalstatus_Married','occupation_Sales','occupation_Service','occupation_Unknown_Others','occupation_WhiteCollar','sex_Male']])\n",
    "model_2_test_probabilities = model_2.predict_proba(Test[['age','education','working_hours_per_week','workclass_Private','marritalstatus_Married','occupation_Sales','occupation_Service','occupation_Unknown_Others','occupation_WhiteCollar','sex_Male']])"
   ]
  },
  {
   "cell_type": "markdown",
   "metadata": {},
   "source": [
    "### Model 3 - Building the model on the Training Data and checking the Accuracy score on the training data."
   ]
  },
  {
   "cell_type": "code",
   "execution_count": 64,
   "metadata": {
    "ExecuteTime": {
     "end_time": "2020-08-20T07:16:08.205555Z",
     "start_time": "2020-08-20T07:16:07.832704Z"
    }
   },
   "outputs": [],
   "source": [
    "model_3 = LR.fit(Train[['age','education','working_hours_per_week','workclass_Private','marritalstatus_Married','occupation_Sales','occupation_Service','occupation_WhiteCollar','sex_Male']],Train['salary'])"
   ]
  },
  {
   "cell_type": "code",
   "execution_count": 65,
   "metadata": {
    "ExecuteTime": {
     "end_time": "2020-08-20T07:16:08.216474Z",
     "start_time": "2020-08-20T07:16:08.206465Z"
    }
   },
   "outputs": [
    {
     "name": "stdout",
     "output_type": "stream",
     "text": [
      "Accuracy Score of Model 3: 0.7974527746561781\n"
     ]
    }
   ],
   "source": [
    "print('Accuracy Score of Model 3:',model_3.score(Train[['age','education','working_hours_per_week','workclass_Private','marritalstatus_Married','occupation_Sales','occupation_Service','occupation_WhiteCollar','sex_Male']],Train['salary']))"
   ]
  },
  {
   "cell_type": "markdown",
   "metadata": {},
   "source": [
    "### Model 3 - Predicting the classes and the probabilities on the Test Data"
   ]
  },
  {
   "cell_type": "code",
   "execution_count": 66,
   "metadata": {
    "ExecuteTime": {
     "end_time": "2020-08-20T07:16:08.303335Z",
     "start_time": "2020-08-20T07:16:08.217437Z"
    }
   },
   "outputs": [],
   "source": [
    "model_3_test_class = model_3.predict(Test[['age','education','working_hours_per_week','workclass_Private','marritalstatus_Married','occupation_Sales','occupation_Service','occupation_WhiteCollar','sex_Male']])\n",
    "model_3_test_probabilities = model_3.predict_proba(Test[['age','education','working_hours_per_week','workclass_Private','marritalstatus_Married','occupation_Sales','occupation_Service','occupation_WhiteCollar','sex_Male']])"
   ]
  },
  {
   "cell_type": "markdown",
   "metadata": {},
   "source": [
    "# Q6. Evaluate the three models on the test data using the various statistics of the confusion matrix. - 1 point"
   ]
  },
  {
   "cell_type": "code",
   "execution_count": 67,
   "metadata": {
    "ExecuteTime": {
     "end_time": "2020-08-20T07:16:08.390104Z",
     "start_time": "2020-08-20T07:16:08.304333Z"
    }
   },
   "outputs": [],
   "source": [
    "from sklearn import metrics"
   ]
  },
  {
   "cell_type": "markdown",
   "metadata": {},
   "source": [
    "### Confusion Matrix summary statistics Evaluation on the Test Data"
   ]
  },
  {
   "cell_type": "code",
   "execution_count": 68,
   "metadata": {
    "ExecuteTime": {
     "end_time": "2020-08-20T07:16:08.508787Z",
     "start_time": "2020-08-20T07:16:08.391100Z"
    }
   },
   "outputs": [],
   "source": [
    "from pylab import rcParams\n",
    "rcParams['figure.figsize'] = 15,4"
   ]
  },
  {
   "cell_type": "code",
   "execution_count": 69,
   "metadata": {
    "ExecuteTime": {
     "end_time": "2020-08-20T07:16:09.067294Z",
     "start_time": "2020-08-20T07:16:08.510781Z"
    }
   },
   "outputs": [
    {
     "data": {
      "image/png": "[encoded data removed]",
      "text/plain": [
       "<Figure size 1080x288 with 6 Axes>"
      ]
     },
     "metadata": {
      "needs_background": "light"
     },
     "output_type": "display_data"
    }
   ],
   "source": [
    "f,a =  plt.subplots(1,3,sharex=True,sharey=True,squeeze=False)\n",
    "\n",
    "#Plotting confusion matrix for the different models for the Training Data\n",
    "\n",
    "plot_0 = sns.heatmap((metrics.confusion_matrix(Test['salary'],model_1_test_class)),annot=True,fmt='.5g',cmap='Greys',ax=a[0][0]);\n",
    "a[0][0].set_title('Model_1')\n",
    "\n",
    "plot_1 = sns.heatmap((metrics.confusion_matrix(Test['salary'],model_2_test_class)),annot=True,fmt='.5g',cmap='Greys',ax=a[0][1]);\n",
    "a[0][1].set_title('Model 2');\n",
    "\n",
    "plot_1 = sns.heatmap((metrics.confusion_matrix(Test['salary'],model_3_test_class)),annot=True,fmt='.5g',cmap='Greys',ax=a[0][2]);\n",
    "a[0][2].set_title('Model 3');\n",
    "\n"
   ]
  },
  {
   "cell_type": "code",
   "execution_count": 70,
   "metadata": {
    "ExecuteTime": {
     "end_time": "2020-08-20T07:16:09.100205Z",
     "start_time": "2020-08-20T07:16:09.069288Z"
    }
   },
   "outputs": [
    {
     "name": "stdout",
     "output_type": "stream",
     "text": [
      "Model 1\n",
      "True Negative: 5308 \n",
      "False Positives: 595 \n",
      "False Negatives: 1048 \n",
      "True Positives: 1059 \n",
      "\n",
      "\n",
      "Model 2\n",
      "True Negative: 5302 \n",
      "False Positives: 601 \n",
      "False Negatives: 1052 \n",
      "True Positives: 1055 \n",
      "\n",
      "\n",
      "Model 3\n",
      "True Negative: 5299 \n",
      "False Positives: 604 \n",
      "False Negatives: 1054 \n",
      "True Positives: 1053\n"
     ]
    }
   ],
   "source": [
    "print('Model 1')\n",
    "tn, fp, fn, tp = metrics.confusion_matrix(Test['salary'],model_1_test_class).ravel()\n",
    "print('True Negative:',tn,'\\n''False Positives:' ,fp,'\\n''False Negatives:', fn,'\\n''True Positives:', tp,'\\n\\n')\n",
    "\n",
    "print('Model 2')\n",
    "tn, fp, fn, tp = metrics.confusion_matrix(Test['salary'],model_2_test_class).ravel()\n",
    "print('True Negative:',tn,'\\n''False Positives:' ,fp,'\\n''False Negatives:', fn,'\\n''True Positives:', tp,'\\n\\n')\n",
    "\n",
    "print('Model 3')\n",
    "tn, fp, fn, tp = metrics.confusion_matrix(Test['salary'],model_3_test_class).ravel()\n",
    "print('True Negative:',tn,'\\n''False Positives:' ,fp,'\\n''False Negatives:', fn,'\\n''True Positives:', tp)"
   ]
  },
  {
   "cell_type": "code",
   "execution_count": 71,
   "metadata": {
    "ExecuteTime": {
     "end_time": "2020-08-20T07:16:09.199055Z",
     "start_time": "2020-08-20T07:16:09.102234Z"
    }
   },
   "outputs": [
    {
     "name": "stdout",
     "output_type": "stream",
     "text": [
      "Model 1\n",
      "              precision    recall  f1-score   support\n",
      "\n",
      "           0       0.84      0.90      0.87      5903\n",
      "           1       0.64      0.50      0.56      2107\n",
      "\n",
      "    accuracy                           0.79      8010\n",
      "   macro avg       0.74      0.70      0.71      8010\n",
      "weighted avg       0.78      0.79      0.79      8010\n",
      " \n",
      "\n",
      "Model 2\n",
      "              precision    recall  f1-score   support\n",
      "\n",
      "           0       0.83      0.90      0.87      5903\n",
      "           1       0.64      0.50      0.56      2107\n",
      "\n",
      "    accuracy                           0.79      8010\n",
      "   macro avg       0.74      0.70      0.71      8010\n",
      "weighted avg       0.78      0.79      0.79      8010\n",
      " \n",
      "\n",
      "Model 3\n",
      "              precision    recall  f1-score   support\n",
      "\n",
      "           0       0.83      0.90      0.86      5903\n",
      "           1       0.64      0.50      0.56      2107\n",
      "\n",
      "    accuracy                           0.79      8010\n",
      "   macro avg       0.73      0.70      0.71      8010\n",
      "weighted avg       0.78      0.79      0.78      8010\n",
      "\n"
     ]
    }
   ],
   "source": [
    "print('Model 1')\n",
    "print(metrics.classification_report(Test['salary'],model_1_test_class),'\\n')\n",
    "\n",
    "print('Model 2')\n",
    "print(metrics.classification_report(Test['salary'],model_2_test_class),'\\n')\n",
    "\n",
    "print('Model 3')\n",
    "print(metrics.classification_report(Test['salary'],model_3_test_class))"
   ]
  },
  {
   "cell_type": "markdown",
   "metadata": {},
   "source": [
    "# Q7. Check the summary statistics of the AUC-ROC curve for all the three Logistic Regression Models built. This is for the test data. - 1 point\n",
    "\n",
    "#### Note: This question is part of the take-home assignment. This question should not be discussed in the laboratory session. The students are expected to solve this question on their own and then submit. The code give is just for your reference."
   ]
  },
  {
   "cell_type": "code",
   "execution_count": 72,
   "metadata": {
    "ExecuteTime": {
     "end_time": "2020-08-20T07:16:09.334657Z",
     "start_time": "2020-08-20T07:16:09.200012Z"
    }
   },
   "outputs": [],
   "source": [
    "from pylab import rcParams\n",
    "rcParams['figure.figsize'] = 15,8"
   ]
  },
  {
   "cell_type": "code",
   "execution_count": 73,
   "metadata": {
    "ExecuteTime": {
     "end_time": "2020-08-20T07:16:09.867929Z",
     "start_time": "2020-08-20T07:16:09.344662Z"
    }
   },
   "outputs": [
    {
     "name": "stdout",
     "output_type": "stream",
     "text": [
      "Model 1 AUC: 0.84813\n"
     ]
    },
    {
     "data": {
      "image/png": "[encoded data removed]",
      "text/plain": [
       "<Figure size 1080x576 with 1 Axes>"
      ]
     },
     "metadata": {
      "needs_background": "light"
     },
     "output_type": "display_data"
    },
    {
     "name": "stdout",
     "output_type": "stream",
     "text": [
      "Model 2 AUC: 0.84845\n"
     ]
    },
    {
     "data": {
      "image/png": "[encoded data removed]",
      "text/plain": [
       "<Figure size 1080x576 with 1 Axes>"
      ]
     },
     "metadata": {
      "needs_background": "light"
     },
     "output_type": "display_data"
    },
    {
     "name": "stdout",
     "output_type": "stream",
     "text": [
      "Model 3 AUC: 0.84862\n"
     ]
    },
    {
     "data": {
      "image/png": "[encoded data removed]",
      "text/plain": [
       "<Figure size 1080x576 with 1 Axes>"
      ]
     },
     "metadata": {
      "needs_background": "light"
     },
     "output_type": "display_data"
    }
   ],
   "source": [
    "# AUC and ROC for the model 1\n",
    "\n",
    "\n",
    "# calculating on the basis of a person not defaulting\n",
    "# calculate AUC\n",
    "auc = metrics.roc_auc_score(Test['salary'],model_1_test_probabilities[:, 1])#keeping only the probabilities for the desired class outcome\n",
    "print('Model 1 AUC: %.5f' % auc)\n",
    "# # calculate roc curve\n",
    "# from sklearn.metrics import roc_curve\n",
    "fpr, tpr, thresholds = metrics.roc_curve(Test['salary'],model_1_test_probabilities[:, 1])#keeping only the probabilities for the desired \n",
    "#class outcome\n",
    "plt.plot([0, 1], [0, 1], linestyle='--')\n",
    "# plot the roc curve for the model\n",
    "plt.plot(fpr, tpr, marker='.')\n",
    "# show the plot\n",
    "plt.show()\n",
    "\n",
    "\n",
    "# AUC and ROC for the model 2\n",
    "\n",
    "\n",
    "# calculating on the basis of a person not defaulting\n",
    "# calculate AUC\n",
    "auc = metrics.roc_auc_score(Test['salary'],model_2_test_probabilities[:, 1])#keeping only the probabilities for the desired class outcome\n",
    "print('Model 2 AUC: %.5f' % auc)\n",
    "# # calculate roc curve\n",
    "# from sklearn.metrics import roc_curve\n",
    "fpr, tpr, thresholds = metrics.roc_curve(Test['salary'],model_2_test_probabilities[:, 1])#keeping only the probabilities for the desired \n",
    "#class outcome\n",
    "plt.plot([0, 1], [0, 1], linestyle='--')\n",
    "# plot the roc curve for the model\n",
    "plt.plot(fpr, tpr, marker='.')\n",
    "# show the plot\n",
    "plt.show()\n",
    "\n",
    "# AUC and ROC for the model 3\n",
    "\n",
    "\n",
    "# calculating on the basis of a person not defaulting\n",
    "# calculate AUC\n",
    "auc = metrics.roc_auc_score(Test['salary'],model_3_test_probabilities[:, 1])#keeping only the probabilities for the desired class outcome\n",
    "print('Model 3 AUC: %.5f' % auc)\n",
    "# # calculate roc curve\n",
    "# from sklearn.metrics import roc_curve\n",
    "fpr, tpr, thresholds = metrics.roc_curve(Test['salary'],model_3_test_probabilities[:, 1])#keeping only the probabilities for the desired \n",
    "#class outcome\n",
    "plt.plot([0, 1], [0, 1], linestyle='--')\n",
    "# plot the roc curve for the model\n",
    "plt.plot(fpr, tpr, marker='.')\n",
    "# show the plot\n",
    "plt.show()"
   ]
  },
  {
   "cell_type": "markdown",
   "metadata": {},
   "source": [
    "# Build three Linear Discriminant Analysis models [using the variables used in the three different models of Logistic Regression] on the training data, check their accuracy scores on the training data and use those models to predict the classes and the corresponding probabilities on the test data. - 1.5 points (0.5 point for each  model building and prediction)\n",
    "###### Note: For this particular exercise the students can use the Z-Score cut-off method for getting the classes or they could be using the 'decision function'  command. The students can choose to code it up in a way that they feel more comfortable."
   ]
  },
  {
   "cell_type": "code",
   "execution_count": 74,
   "metadata": {
    "ExecuteTime": {
     "end_time": "2020-08-20T07:16:09.879910Z",
     "start_time": "2020-08-20T07:16:09.871914Z"
    }
   },
   "outputs": [],
   "source": [
    "from sklearn.discriminant_analysis import LinearDiscriminantAnalysis"
   ]
  },
  {
   "cell_type": "code",
   "execution_count": 75,
   "metadata": {
    "ExecuteTime": {
     "end_time": "2020-08-20T07:16:09.972641Z",
     "start_time": "2020-08-20T07:16:09.880850Z"
    }
   },
   "outputs": [],
   "source": [
    "LDA = LinearDiscriminantAnalysis()"
   ]
  },
  {
   "cell_type": "markdown",
   "metadata": {},
   "source": [
    "### Model 1 - Building the LDA model on the Training Data and checking the Accuracy score on the training data."
   ]
  },
  {
   "cell_type": "code",
   "execution_count": 76,
   "metadata": {
    "ExecuteTime": {
     "end_time": "2020-08-20T07:16:10.113221Z",
     "start_time": "2020-08-20T07:16:09.973594Z"
    }
   },
   "outputs": [],
   "source": [
    "model_1_LDA = LDA.fit(Train[['age','education','working_hours_per_week','workclass_Others','workclass_Private','marritalstatus_Married','occupation_Sales','occupation_Service','occupation_Unknown_Others','occupation_WhiteCollar','sex_Male']],Train['salary'])"
   ]
  },
  {
   "cell_type": "code",
   "execution_count": 77,
   "metadata": {
    "ExecuteTime": {
     "end_time": "2020-08-20T07:16:10.223964Z",
     "start_time": "2020-08-20T07:16:10.114179Z"
    }
   },
   "outputs": [
    {
     "name": "stdout",
     "output_type": "stream",
     "text": [
      "Accuracy Score of LDA Model 1: 0.7947236046449403\n"
     ]
    }
   ],
   "source": [
    "print('Accuracy Score of LDA Model 1:',model_1_LDA.score(Train[['age','education','working_hours_per_week','workclass_Others','workclass_Private','marritalstatus_Married','occupation_Sales','occupation_Service','occupation_Unknown_Others','occupation_WhiteCollar','sex_Male']],Train['salary']))"
   ]
  },
  {
   "cell_type": "markdown",
   "metadata": {},
   "source": [
    "### Model 1 - Predicting the classes and the probabilities on the Test Data for the LDA model"
   ]
  },
  {
   "cell_type": "code",
   "execution_count": 78,
   "metadata": {
    "ExecuteTime": {
     "end_time": "2020-08-20T07:16:10.354294Z",
     "start_time": "2020-08-20T07:16:10.225961Z"
    }
   },
   "outputs": [],
   "source": [
    "model_1_LDA_test_class = model_1_LDA.predict(Test[['age','education','working_hours_per_week','workclass_Others','workclass_Private','marritalstatus_Married','occupation_Sales','occupation_Service','occupation_Unknown_Others','occupation_WhiteCollar','sex_Male']])\n",
    "model_1_LDA_test_probabilities = model_1_LDA.predict_proba(Test[['age','education','working_hours_per_week','workclass_Others','workclass_Private','marritalstatus_Married','occupation_Sales','occupation_Service','occupation_Unknown_Others','occupation_WhiteCollar','sex_Male']])"
   ]
  },
  {
   "cell_type": "markdown",
   "metadata": {},
   "source": [
    "### Model 2 - Building the LDA model on the Training Data and checking the Accuracy score on the training data."
   ]
  },
  {
   "cell_type": "code",
   "execution_count": 79,
   "metadata": {
    "ExecuteTime": {
     "end_time": "2020-08-20T07:16:10.490971Z",
     "start_time": "2020-08-20T07:16:10.356289Z"
    }
   },
   "outputs": [],
   "source": [
    "model_2_LDA = LDA.fit(Train[['age','education','working_hours_per_week','workclass_Private','marritalstatus_Married','occupation_Sales','occupation_Service','occupation_Unknown_Others','occupation_WhiteCollar','sex_Male']],Train['salary'])"
   ]
  },
  {
   "cell_type": "code",
   "execution_count": 80,
   "metadata": {
    "ExecuteTime": {
     "end_time": "2020-08-20T07:16:10.593827Z",
     "start_time": "2020-08-20T07:16:10.492967Z"
    }
   },
   "outputs": [
    {
     "name": "stdout",
     "output_type": "stream",
     "text": [
      "Accuracy Score of LDA Model 2: 0.7944025258200889\n"
     ]
    }
   ],
   "source": [
    "print('Accuracy Score of LDA Model 2:',model_2_LDA.score(Train[['age','education','working_hours_per_week','workclass_Private','marritalstatus_Married','occupation_Sales','occupation_Service','occupation_Unknown_Others','occupation_WhiteCollar','sex_Male']],Train['salary']))"
   ]
  },
  {
   "cell_type": "markdown",
   "metadata": {},
   "source": [
    "### Model 2 - Predicting the classes and the probabilities on the Test Data for the LDA model"
   ]
  },
  {
   "cell_type": "code",
   "execution_count": 81,
   "metadata": {
    "ExecuteTime": {
     "end_time": "2020-08-20T07:16:10.697889Z",
     "start_time": "2020-08-20T07:16:10.594870Z"
    }
   },
   "outputs": [],
   "source": [
    "model_2_LDA_test_class = model_2_LDA.predict(Test[['age','education','working_hours_per_week','workclass_Private','marritalstatus_Married','occupation_Sales','occupation_Service','occupation_Unknown_Others','occupation_WhiteCollar','sex_Male']])\n",
    "model_2_LDA_test_probabilities = model_2_LDA.predict_proba(Test[['age','education','working_hours_per_week','workclass_Private','marritalstatus_Married','occupation_Sales','occupation_Service','occupation_Unknown_Others','occupation_WhiteCollar','sex_Male']])"
   ]
  },
  {
   "cell_type": "markdown",
   "metadata": {},
   "source": [
    "### Model 3 - Building the LDA model on the Training Data and checking the Accuracy score on the training data."
   ]
  },
  {
   "cell_type": "code",
   "execution_count": 82,
   "metadata": {
    "ExecuteTime": {
     "end_time": "2020-08-20T07:16:10.828455Z",
     "start_time": "2020-08-20T07:16:10.698725Z"
    }
   },
   "outputs": [],
   "source": [
    "model_3_LDA = LDA.fit(Train[['age','education','working_hours_per_week','workclass_Private','marritalstatus_Married','occupation_Sales','occupation_Service','occupation_WhiteCollar','sex_Male']],Train['salary'])"
   ]
  },
  {
   "cell_type": "code",
   "execution_count": 83,
   "metadata": {
    "ExecuteTime": {
     "end_time": "2020-08-20T07:16:10.921019Z",
     "start_time": "2020-08-20T07:16:10.829419Z"
    }
   },
   "outputs": [
    {
     "name": "stdout",
     "output_type": "stream",
     "text": [
      "Accuracy Score of LDA Model 2: 0.7952052228822176\n"
     ]
    }
   ],
   "source": [
    "print('Accuracy Score of LDA Model 2:',model_3_LDA.score(Train[['age','education','working_hours_per_week','workclass_Private','marritalstatus_Married','occupation_Sales','occupation_Service','occupation_WhiteCollar','sex_Male']],Train['salary']))"
   ]
  },
  {
   "cell_type": "markdown",
   "metadata": {},
   "source": [
    "### Model 3 - Predicting the classes and the probabilities on the Test Data for the LDA model"
   ]
  },
  {
   "cell_type": "code",
   "execution_count": 84,
   "metadata": {
    "ExecuteTime": {
     "end_time": "2020-08-20T07:16:11.025091Z",
     "start_time": "2020-08-20T07:16:10.921983Z"
    }
   },
   "outputs": [],
   "source": [
    "model_3_LDA_test_class = model_3_LDA.predict(Test[['age','education','working_hours_per_week','workclass_Private','marritalstatus_Married','occupation_Sales','occupation_Service','occupation_WhiteCollar','sex_Male']])\n",
    "model_3_LDA_test_probabilities = model_3_LDA.predict_proba(Test[['age','education','working_hours_per_week','workclass_Private','marritalstatus_Married','occupation_Sales','occupation_Service','occupation_WhiteCollar','sex_Male']])"
   ]
  },
  {
   "cell_type": "markdown",
   "metadata": {},
   "source": [
    "# Evaluate the three LDA models on the test data using the various statistics of the confusion matrix and the AUC-ROC curve. - 1 point (0.5 each for all the three confusion matrix summary statistics evaluation and the three AUC-ROC curve evaluation)\n",
    "###### Note: The entire LDA model evaluation part should be done by the students as a take-home exercise and then submitted later along with the rest of the notebook."
   ]
  },
  {
   "cell_type": "markdown",
   "metadata": {},
   "source": [
    "### Confusion Matrix Summary Statistics evaluation on the Test Data"
   ]
  },
  {
   "cell_type": "code",
   "execution_count": 85,
   "metadata": {
    "ExecuteTime": {
     "end_time": "2020-08-20T07:16:11.144674Z",
     "start_time": "2020-08-20T07:16:11.026089Z"
    }
   },
   "outputs": [],
   "source": [
    "from pylab import rcParams\n",
    "rcParams['figure.figsize'] = 15,4"
   ]
  },
  {
   "cell_type": "code",
   "execution_count": 86,
   "metadata": {
    "ExecuteTime": {
     "end_time": "2020-08-20T07:16:11.697871Z",
     "start_time": "2020-08-20T07:16:11.145483Z"
    }
   },
   "outputs": [
    {
     "data": {
      "image/png": "[encoded data removed]",
      "text/plain": [
       "<Figure size 1080x288 with 6 Axes>"
      ]
     },
     "metadata": {
      "needs_background": "light"
     },
     "output_type": "display_data"
    }
   ],
   "source": [
    "f,a =  plt.subplots(1,3,sharex=True,sharey=True,squeeze=False)\n",
    "\n",
    "#Plotting confusion matrix for the different models for the Training Data\n",
    "\n",
    "plot_0 = sns.heatmap((metrics.confusion_matrix(Test['salary'],model_1_LDA_test_class)),annot=True,fmt='.5g',cmap='Greys',ax=a[0][0]);\n",
    "a[0][0].set_title('LDA Model_1')\n",
    "\n",
    "plot_1 = sns.heatmap((metrics.confusion_matrix(Test['salary'],model_2_LDA_test_class)),annot=True,fmt='.5g',cmap='Greys',ax=a[0][1]);\n",
    "a[0][1].set_title('LDA Model 2');\n",
    "\n",
    "plot_1 = sns.heatmap((metrics.confusion_matrix(Test['salary'],model_3_LDA_test_class)),annot=True,fmt='.5g',cmap='Greys',ax=a[0][2]);\n",
    "a[0][2].set_title('LDA Model 3');\n",
    "\n"
   ]
  },
  {
   "cell_type": "code",
   "execution_count": 87,
   "metadata": {
    "ExecuteTime": {
     "end_time": "2020-08-20T07:16:11.727754Z",
     "start_time": "2020-08-20T07:16:11.698832Z"
    }
   },
   "outputs": [
    {
     "name": "stdout",
     "output_type": "stream",
     "text": [
      "LDA Model 1\n",
      "True Negative: 5233 \n",
      "False Positives: 670 \n",
      "False Negatives: 982 \n",
      "True Positives: 1125 \n",
      "\n",
      "\n",
      "LDA Model 2\n",
      "True Negative: 5232 \n",
      "False Positives: 671 \n",
      "False Negatives: 984 \n",
      "True Positives: 1123 \n",
      "\n",
      "\n",
      "LDA Model 3\n",
      "True Negative: 5228 \n",
      "False Positives: 675 \n",
      "False Negatives: 986 \n",
      "True Positives: 1121\n"
     ]
    }
   ],
   "source": [
    "print('LDA Model 1')\n",
    "tn, fp, fn, tp = metrics.confusion_matrix(Test['salary'],model_1_LDA_test_class).ravel()\n",
    "print('True Negative:',tn,'\\n''False Positives:' ,fp,'\\n''False Negatives:', fn,'\\n''True Positives:', tp,'\\n\\n')\n",
    "\n",
    "print('LDA Model 2')\n",
    "tn, fp, fn, tp = metrics.confusion_matrix(Test['salary'],model_2_LDA_test_class).ravel()\n",
    "print('True Negative:',tn,'\\n''False Positives:' ,fp,'\\n''False Negatives:', fn,'\\n''True Positives:', tp,'\\n\\n')\n",
    "\n",
    "print('LDA Model 3')\n",
    "tn, fp, fn, tp = metrics.confusion_matrix(Test['salary'],model_3_LDA_test_class).ravel()\n",
    "print('True Negative:',tn,'\\n''False Positives:' ,fp,'\\n''False Negatives:', fn,'\\n''True Positives:', tp)"
   ]
  },
  {
   "cell_type": "code",
   "execution_count": 88,
   "metadata": {
    "ExecuteTime": {
     "end_time": "2020-08-20T07:16:11.887474Z",
     "start_time": "2020-08-20T07:16:11.728751Z"
    }
   },
   "outputs": [
    {
     "name": "stdout",
     "output_type": "stream",
     "text": [
      "LDA Model 1\n",
      "              precision    recall  f1-score   support\n",
      "\n",
      "           0       0.84      0.89      0.86      5903\n",
      "           1       0.63      0.53      0.58      2107\n",
      "\n",
      "    accuracy                           0.79      8010\n",
      "   macro avg       0.73      0.71      0.72      8010\n",
      "weighted avg       0.79      0.79      0.79      8010\n",
      " \n",
      "\n",
      "LDA Model 2\n",
      "              precision    recall  f1-score   support\n",
      "\n",
      "           0       0.84      0.89      0.86      5903\n",
      "           1       0.63      0.53      0.58      2107\n",
      "\n",
      "    accuracy                           0.79      8010\n",
      "   macro avg       0.73      0.71      0.72      8010\n",
      "weighted avg       0.78      0.79      0.79      8010\n",
      " \n",
      "\n",
      "LDA Model 3\n",
      "              precision    recall  f1-score   support\n",
      "\n",
      "           0       0.84      0.89      0.86      5903\n",
      "           1       0.62      0.53      0.57      2107\n",
      "\n",
      "    accuracy                           0.79      8010\n",
      "   macro avg       0.73      0.71      0.72      8010\n",
      "weighted avg       0.78      0.79      0.79      8010\n",
      "\n"
     ]
    }
   ],
   "source": [
    "print('LDA Model 1')\n",
    "print(metrics.classification_report(Test['salary'],model_1_LDA_test_class),'\\n')\n",
    "\n",
    "print('LDA Model 2')\n",
    "print(metrics.classification_report(Test['salary'],model_2_LDA_test_class),'\\n')\n",
    "\n",
    "print('LDA Model 3')\n",
    "print(metrics.classification_report(Test['salary'],model_3_LDA_test_class))"
   ]
  },
  {
   "cell_type": "markdown",
   "metadata": {},
   "source": [
    "### AUC-ROC summary statistics Evaluation on the Test Data. Calculate the AUC-ROC curves and the AUC values."
   ]
  },
  {
   "cell_type": "code",
   "execution_count": 89,
   "metadata": {
    "ExecuteTime": {
     "end_time": "2020-08-20T07:16:12.408907Z",
     "start_time": "2020-08-20T07:16:11.888472Z"
    }
   },
   "outputs": [
    {
     "name": "stdout",
     "output_type": "stream",
     "text": [
      "LDA Model 1 AUC: 0.84774\n"
     ]
    },
    {
     "data": {
      "image/png": "[encoded data removed]",
      "text/plain": [
       "<Figure size 1080x288 with 1 Axes>"
      ]
     },
     "metadata": {
      "needs_background": "light"
     },
     "output_type": "display_data"
    },
    {
     "name": "stdout",
     "output_type": "stream",
     "text": [
      "LDA Model 2 AUC: 0.84790\n"
     ]
    },
    {
     "data": {
      "image/png": "[encoded data removed]",
      "text/plain": [
       "<Figure size 1080x288 with 1 Axes>"
      ]
     },
     "metadata": {
      "needs_background": "light"
     },
     "output_type": "display_data"
    },
    {
     "name": "stdout",
     "output_type": "stream",
     "text": [
      "LDA Model 3 AUC: 0.84787\n"
     ]
    },
    {
     "data": {
      "image/png": "[encoded data removed]",
      "text/plain": [
       "<Figure size 1080x288 with 1 Axes>"
      ]
     },
     "metadata": {
      "needs_background": "light"
     },
     "output_type": "display_data"
    }
   ],
   "source": [
    "# AUC and ROC for the model 1\n",
    "\n",
    "\n",
    "# calculating on the basis of a person not defaulting\n",
    "# calculate AUC\n",
    "auc = metrics.roc_auc_score(Test['salary'],model_1_LDA_test_probabilities[:, 1])#keeping only the probabilities for the desired class outcome\n",
    "print('LDA Model 1 AUC: %.5f' % auc)\n",
    "# # calculate roc curve\n",
    "# from sklearn.metrics import roc_curve\n",
    "fpr, tpr, thresholds = metrics.roc_curve(Test['salary'],model_1_LDA_test_probabilities[:, 1])#keeping only the probabilities for the desired \n",
    "#class outcome\n",
    "plt.plot([0, 1], [0, 1], linestyle='--')\n",
    "# plot the roc curve for the model\n",
    "plt.plot(fpr, tpr, marker='.')\n",
    "# show the plot\n",
    "plt.show()\n",
    "\n",
    "\n",
    "# AUC and ROC for the model 2\n",
    "\n",
    "\n",
    "# calculating on the basis of a person not defaulting\n",
    "# calculate AUC\n",
    "auc = metrics.roc_auc_score(Test['salary'],model_2_LDA_test_probabilities[:, 1])#keeping only the probabilities for the desired class outcome\n",
    "print('LDA Model 2 AUC: %.5f' % auc)\n",
    "# # calculate roc curve\n",
    "# from sklearn.metrics import roc_curve\n",
    "fpr, tpr, thresholds = metrics.roc_curve(Test['salary'],model_2_LDA_test_probabilities[:, 1])#keeping only the probabilities for the desired \n",
    "#class outcome\n",
    "plt.plot([0, 1], [0, 1], linestyle='--')\n",
    "# plot the roc curve for the model\n",
    "plt.plot(fpr, tpr, marker='.')\n",
    "# show the plot\n",
    "plt.show()\n",
    "\n",
    "# AUC and ROC for the model 3\n",
    "\n",
    "\n",
    "# calculating on the basis of a person not defaulting\n",
    "# calculate AUC\n",
    "auc = metrics.roc_auc_score(Test['salary'],model_3_LDA_test_probabilities[:, 1])#keeping only the probabilities for the desired class outcome\n",
    "print('LDA Model 3 AUC: %.5f' % auc)\n",
    "# # calculate roc curve\n",
    "# from sklearn.metrics import roc_curve\n",
    "fpr, tpr, thresholds = metrics.roc_curve(Test['salary'],model_3_LDA_test_probabilities[:, 1])#keeping only the probabilities for the desired \n",
    "#class outcome\n",
    "plt.plot([0, 1], [0, 1], linestyle='--')\n",
    "# plot the roc curve for the model\n",
    "plt.plot(fpr, tpr, marker='.')\n",
    "# show the plot\n",
    "plt.show()"
   ]
  },
  {
   "cell_type": "markdown",
   "metadata": {},
   "source": [
    "# Among the 6 models thus built, which model performs the most optimally based on the model evaluation metrics? - 0.5 point\n",
    "#### Note: This question is part of the take-home assignment. This question will not be discussed in the laboratory session. Please do solve this question and submit your laboratory assignment in the link provided by your Program Manager."
   ]
  },
  {
   "cell_type": "code",
   "execution_count": null,
   "metadata": {},
   "outputs": [],
   "source": []
  },
  {
   "cell_type": "markdown",
   "metadata": {},
   "source": [
    "# END"
   ]
  }
 ],
 "metadata": {
  "kernelspec": {
   "display_name": "Python 3",
   "language": "python",
   "name": "python3"
  },
  "language_info": {
   "codemirror_mode": {
    "name": "ipython",
    "version": 3
   },
   "file_extension": ".py",
   "mimetype": "text/x-python",
   "name": "python",
   "nbconvert_exporter": "python",
   "pygments_lexer": "ipython3",
   "version": "3.7.1"
  },
  "toc": {
   "base_numbering": 1,
   "nav_menu": {},
   "number_sections": true,
   "sideBar": true,
   "skip_h1_title": false,
   "title_cell": "Table of Contents",
   "title_sidebar": "Contents",
   "toc_cell": false,
   "toc_position": {},
   "toc_section_display": true,
   "toc_window_display": false
  },
  "varInspector": {
   "cols": {
    "lenName": 16,
    "lenType": 16,
    "lenVar": 40
   },
   "kernels_config": {
    "python": {
     "delete_cmd_postfix": "",
     "delete_cmd_prefix": "del ",
     "library": "var_list.py",
     "varRefreshCmd": "print(var_dic_list())"
    },
    "r": {
     "delete_cmd_postfix": ") ",
     "delete_cmd_prefix": "rm(",
     "library": "var_list.r",
     "varRefreshCmd": "cat(var_dic_list()) "
    }
   },
   "types_to_exclude": [
    "module",
    "function",
    "builtin_function_or_method",
    "instance",
    "_Feature"
   ],
   "window_display": false
  }
 },
 "nbformat": 4,
 "nbformat_minor": 2
}
